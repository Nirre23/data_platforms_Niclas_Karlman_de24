{
 "cells": [
  {
   "cell_type": "code",
   "execution_count": 38,
   "metadata": {},
   "outputs": [
    {
     "name": "stdout",
     "output_type": "stream",
     "text": [
      "True\n"
     ]
    }
   ],
   "source": [
    "person = {\n",
    "    \"id\": 101,\n",
    "    \"name\": \"Erika\",\n",
    "    \"is_active\": True,\n",
    "    \"age\": 45 \n",
    "           }\n",
    "person\n",
    "\n",
    "def validate(person):\n",
    "    if type(person.get(\"id\")) != int:\n",
    "        return False\n",
    "    if type(person.get(\"name\")) != str:\n",
    "        return False\n",
    "    if type(person.get(\"is_active\")) != bool:\n",
    "        return False\n",
    "    if type(person.get(\"age\")) != int:\n",
    "        return False\n",
    "    return True\n",
    "\n",
    "print(validate(person))   "
   ]
  },
  {
   "cell_type": "code",
   "execution_count": 39,
   "metadata": {},
   "outputs": [
    {
     "name": "stdout",
     "output_type": "stream",
     "text": [
      "None\n"
     ]
    }
   ],
   "source": [
    "def validate(person):\n",
    "    if type(person.get(\"id\")) != int:\n",
    "        return False\n",
    "    if type(person.get(\"name\")) != str:\n",
    "        return False\n",
    "    if type(person.get(\"is_active\")) != bool:\n",
    "        return False\n",
    "    if type(person.get(\"age\")) != int:\n",
    "        return False\n",
    "\n",
    "print(validate(person))    "
   ]
  },
  {
   "cell_type": "code",
   "execution_count": 40,
   "metadata": {},
   "outputs": [
    {
     "name": "stdout",
     "output_type": "stream",
     "text": [
      "{'id': 23, 'name': 'Niclas', 'age': 30, 'is_active': False}\n"
     ]
    }
   ],
   "source": [
    "person2 = {\n",
    "    \"id\": 23,\n",
    "    \"name\" : \"Niclas\",\n",
    "    \"age\" : 30,\n",
    "    \"is_active\" : False,\n",
    "    \n",
    "    \n",
    "}\n",
    "print (person2)\n"
   ]
  },
  {
   "cell_type": "code",
   "execution_count": 41,
   "metadata": {},
   "outputs": [
    {
     "name": "stdout",
     "output_type": "stream",
     "text": [
      "False\n"
     ]
    }
   ],
   "source": [
    "def validera(person2):\n",
    "    if type(person2.get(\"name\")) != str:\n",
    "        return False\n",
    "    if type(person2.get(\"age\")) != int:\n",
    "        return False\n",
    "    if type(person2.get(\"job\")) != bool:\n",
    "        return False\n",
    "    if type(person2.get(\"height\")) != int:\n",
    "        return False\n",
    "    return True\n",
    "\n",
    "print(validera(person2))\n"
   ]
  },
  {
   "cell_type": "code",
   "execution_count": 42,
   "metadata": {},
   "outputs": [
    {
     "name": "stdout",
     "output_type": "stream",
     "text": [
      "{'id': 103, 'name': 'Lars', 'age': '25', 'is_active': True}\n"
     ]
    }
   ],
   "source": [
    "person3 = {\n",
    "    \"id\": 103,\n",
    "    \"name\": \"Lars\",\n",
    "    \"age\" : \"25\",\n",
    "    \"is_active\" : True,\n",
    "    \n",
    "}\n",
    "print(person3)"
   ]
  },
  {
   "cell_type": "code",
   "execution_count": 43,
   "metadata": {},
   "outputs": [],
   "source": [
    "person4 = {\n",
    "    \"id\": 102,\n",
    "    \"name\": \"David\",\n",
    "    \"age\": 29,\n",
    "    \"is_active\": \"NOPE\"}"
   ]
  },
  {
   "cell_type": "code",
   "execution_count": 45,
   "metadata": {},
   "outputs": [
    {
     "name": "stdout",
     "output_type": "stream",
     "text": [
      "[\n",
      "    {\n",
      "        \"id\": 101,\n",
      "        \"name\": \"Erika\",\n",
      "        \"is_active\": true,\n",
      "        \"age\": 45\n",
      "    },\n",
      "    {\n",
      "        \"id\": 23,\n",
      "        \"name\": \"Niclas\",\n",
      "        \"age\": 30,\n",
      "        \"is_active\": false\n",
      "    },\n",
      "    {\n",
      "        \"id\": 103,\n",
      "        \"name\": \"Lars\",\n",
      "        \"age\": \"25\",\n",
      "        \"is_active\": true\n",
      "    },\n",
      "    {\n",
      "        \"id\": 102,\n",
      "        \"name\": \"David\",\n",
      "        \"age\": 29,\n",
      "        \"is_active\": \"NOPE\"\n",
      "    }\n",
      "]\n"
     ]
    }
   ],
   "source": [
    "records = [person,person2,person3,person4]\n",
    "import json\n",
    "print(json.dumps(records,indent=4))"
   ]
  },
  {
   "cell_type": "code",
   "execution_count": 53,
   "metadata": {},
   "outputs": [
    {
     "name": "stdout",
     "output_type": "stream",
     "text": [
      "False\n"
     ]
    }
   ],
   "source": [
    "def validation(records):\n",
    "    for record in records:\n",
    "        if not all(key in record for key in[\"id\",\"name\",\"is_active\",\"age\"]):\n",
    "            return False\n",
    "    \n",
    "    if type(record[\"id\"]) != int:\n",
    "        return False\n",
    "    if type(record[\"name\"]) != str:\n",
    "        return False\n",
    "    if type(record[\"is_active\"]) != bool:\n",
    "        return False\n",
    "    if type(record(\"age\")) not in [int,float]:\n",
    "        return False\n",
    "    return True\n",
    "print(validation(records))    \n",
    "    "
   ]
  },
  {
   "cell_type": "code",
   "execution_count": 1,
   "metadata": {},
   "outputs": [
    {
     "name": "stdout",
     "output_type": "stream",
     "text": [
      "Source: \n",
      "Destination: \n"
     ]
    }
   ],
   "source": [
    "# Be användaren om filvägar\n",
    "source_path = input(\"Enter the source file path: \")\n",
    "destination_path = input(\"Enter the destination file path: \")\n",
    "\n",
    "# Skriv ut filvägarna\n",
    "print(f\"Source: {source_path}\")\n",
    "print(f\"Destination: {destination_path}\")\n"
   ]
  }
 ],
 "metadata": {
  "kernelspec": {
   "display_name": ".venv",
   "language": "python",
   "name": "python3"
  },
  "language_info": {
   "codemirror_mode": {
    "name": "ipython",
    "version": 3
   },
   "file_extension": ".py",
   "mimetype": "text/x-python",
   "name": "python",
   "nbconvert_exporter": "python",
   "pygments_lexer": "ipython3",
   "version": "3.12.5"
  }
 },
 "nbformat": 4,
 "nbformat_minor": 2
}
