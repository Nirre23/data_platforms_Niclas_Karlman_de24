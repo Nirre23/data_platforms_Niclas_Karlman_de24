{
 "cells": [
  {
   "cell_type": "code",
   "execution_count": 112,
   "metadata": {},
   "outputs": [
    {
     "data": {
      "text/html": [
       "<div>\n",
       "<style scoped>\n",
       "    .dataframe tbody tr th:only-of-type {\n",
       "        vertical-align: middle;\n",
       "    }\n",
       "\n",
       "    .dataframe tbody tr th {\n",
       "        vertical-align: top;\n",
       "    }\n",
       "\n",
       "    .dataframe thead th {\n",
       "        text-align: right;\n",
       "    }\n",
       "</style>\n",
       "<table border=\"1\" class=\"dataframe\">\n",
       "  <thead>\n",
       "    <tr style=\"text-align: right;\">\n",
       "      <th></th>\n",
       "      <th>Riket</th>\n",
       "      <th>Typ av huvudman</th>\n",
       "      <th>Totalt</th>\n",
       "      <th>Flickor</th>\n",
       "      <th>Pojkar</th>\n",
       "      <th>Totalt</th>\n",
       "      <th>Flickor</th>\n",
       "      <th>Pojkar</th>\n",
       "      <th>Totalt</th>\n",
       "      <th>Flickor</th>\n",
       "      <th>Pojkar</th>\n",
       "    </tr>\n",
       "  </thead>\n",
       "  <tbody>\n",
       "    <tr>\n",
       "      <th>0</th>\n",
       "      <td>Riket</td>\n",
       "      <td>Samtliga</td>\n",
       "      <td>106766</td>\n",
       "      <td>51548</td>\n",
       "      <td>55218</td>\n",
       "      <td>89.1</td>\n",
       "      <td>88.7</td>\n",
       "      <td>89.5</td>\n",
       "      <td>11.9</td>\n",
       "      <td>11.8</td>\n",
       "      <td>12.0</td>\n",
       "    </tr>\n",
       "    <tr>\n",
       "      <th>1</th>\n",
       "      <td>Riket</td>\n",
       "      <td>Kommunal</td>\n",
       "      <td>84163</td>\n",
       "      <td>40386</td>\n",
       "      <td>43777</td>\n",
       "      <td>88.1</td>\n",
       "      <td>87.7</td>\n",
       "      <td>88.5</td>\n",
       "      <td>11.6</td>\n",
       "      <td>11.5</td>\n",
       "      <td>11.7</td>\n",
       "    </tr>\n",
       "    <tr>\n",
       "      <th>2</th>\n",
       "      <td>Riket</td>\n",
       "      <td>Enskild</td>\n",
       "      <td>22553</td>\n",
       "      <td>11137</td>\n",
       "      <td>11416</td>\n",
       "      <td>92.9</td>\n",
       "      <td>92.2</td>\n",
       "      <td>93.5</td>\n",
       "      <td>13.0</td>\n",
       "      <td>12.8</td>\n",
       "      <td>13.1</td>\n",
       "    </tr>\n",
       "    <tr>\n",
       "      <th>3</th>\n",
       "      <td>Riket</td>\n",
       "      <td>Skolverket</td>\n",
       "      <td>50</td>\n",
       "      <td>25</td>\n",
       "      <td>25</td>\n",
       "      <td>~100</td>\n",
       "      <td>~100</td>\n",
       "      <td>~100</td>\n",
       "      <td>14.1</td>\n",
       "      <td>13.5</td>\n",
       "      <td>14.7</td>\n",
       "    </tr>\n",
       "  </tbody>\n",
       "</table>\n",
       "</div>"
      ],
      "text/plain": [
       "   Riket Typ av huvudman  Totalt  Flickor  Pojkar Totalt  Flickor  Pojkar   \\\n",
       "0  Riket        Samtliga  106766    51548   55218    89.1     88.7    89.5   \n",
       "1  Riket        Kommunal   84163    40386   43777    88.1     87.7    88.5   \n",
       "2  Riket         Enskild   22553    11137   11416    92.9     92.2    93.5   \n",
       "3  Riket      Skolverket      50       25      25    ~100     ~100    ~100   \n",
       "\n",
       "   Totalt    Flickor    Pojkar    \n",
       "0      11.9       11.8      12.0  \n",
       "1      11.6       11.5      11.7  \n",
       "2      13.0       12.8      13.1  \n",
       "3      14.1       13.5      14.7  "
      ]
     },
     "execution_count": 112,
     "metadata": {},
     "output_type": "execute_result"
    }
   ],
   "source": [
    "import pandas as pd\n",
    "\n",
    "national_test_file_path = 'data/riket2023_åk9_np.xlsx'\n",
    "\n",
    "sheet_names = pd.ExcelFile(national_test_file_path).sheet_names\n",
    "\n",
    "df_dict = {}\n",
    "for sheet_name in sheet_names[:-1]:\n",
    "    df_dict[sheet_name] = pd.read_excel(\n",
    "        national_test_file_path,skiprows= 8,sheet_name = sheet_name\n",
    "    )\n",
    "    \n",
    "df_dict[\"Matematik\"]\n",
    "# itereate through sheetnames \n",
    "# read each sheet into a dictionary of dataframes\n",
    "# df = pd.read_excel('data/riket2023_åk9_np.xlsx',skiprows= 8)\n"
   ]
  },
  {
   "cell_type": "code",
   "execution_count": 113,
   "metadata": {},
   "outputs": [
    {
     "data": {
      "text/plain": [
       "['Engelska', 'Matematik', 'Svenska', 'Svenska som andraspråk']"
      ]
     },
     "execution_count": 113,
     "metadata": {},
     "output_type": "execute_result"
    }
   ],
   "source": [
    "subjects = list(df_dict.keys())\n",
    "subjects"
   ]
  },
  {
   "cell_type": "markdown",
   "metadata": {},
   "source": [
    "# Change name of columns"
   ]
  },
  {
   "cell_type": "code",
   "execution_count": 114,
   "metadata": {},
   "outputs": [
    {
     "data": {
      "text/plain": [
       "Index(['Riket', 'Typ av huvudman', 'Totalt', 'Flickor', 'Pojkar', 'Totalt ',\n",
       "       'Flickor ', 'Pojkar ', 'Totalt  ', 'Flickor  ', 'Pojkar  '],\n",
       "      dtype='object')"
      ]
     },
     "execution_count": 114,
     "metadata": {},
     "output_type": "execute_result"
    }
   ],
   "source": [
    "df_dict[\"Engelska\"].columns"
   ]
  },
  {
   "cell_type": "code",
   "execution_count": 115,
   "metadata": {},
   "outputs": [
    {
     "data": {
      "text/plain": [
       "Index(['Riket', 'Typ av huvudman', 'Totalt(A-F)', 'Flickor(A-F)',\n",
       "       'Pojkar(A-F)', 'Totalt(A-E)', 'Flickor(A-E)', 'Pojkar(A-E)',\n",
       "       'TotaltPoäng', 'FlickorPoäng', 'PojkarPoäng'],\n",
       "      dtype='object')"
      ]
     },
     "execution_count": 115,
     "metadata": {},
     "output_type": "execute_result"
    }
   ],
   "source": [
    "import numpy as np\n",
    "postfixes = [\"\"]*2 + [\"(A-F)\"]*3 + [\"(A-E)\"]*3 + [(\"Poäng\")]*3\n",
    "\n",
    "\n",
    "df_dict[\"Engelska\"].columns.str.strip() + np.array(postfixes) "
   ]
  },
  {
   "cell_type": "code",
   "execution_count": 128,
   "metadata": {},
   "outputs": [
    {
     "data": {
      "text/html": [
       "<div>\n",
       "<style scoped>\n",
       "    .dataframe tbody tr th:only-of-type {\n",
       "        vertical-align: middle;\n",
       "    }\n",
       "\n",
       "    .dataframe tbody tr th {\n",
       "        vertical-align: top;\n",
       "    }\n",
       "\n",
       "    .dataframe thead th {\n",
       "        text-align: right;\n",
       "    }\n",
       "</style>\n",
       "<table border=\"1\" class=\"dataframe\">\n",
       "  <thead>\n",
       "    <tr style=\"text-align: right;\">\n",
       "      <th></th>\n",
       "      <th>Plats</th>\n",
       "      <th>Huvudman</th>\n",
       "      <th>Totalt(A-F)</th>\n",
       "      <th>Flickor(A-F)</th>\n",
       "      <th>Pojkar(A-F)</th>\n",
       "      <th>Totalt(A-E)</th>\n",
       "      <th>Flickor(A-E)</th>\n",
       "      <th>Pojkar(A-E)</th>\n",
       "      <th>TotaltPoäng</th>\n",
       "      <th>FlickorPoäng</th>\n",
       "      <th>PojkarPoäng</th>\n",
       "    </tr>\n",
       "  </thead>\n",
       "  <tbody>\n",
       "    <tr>\n",
       "      <th>0</th>\n",
       "      <td>Riket</td>\n",
       "      <td>Samtliga</td>\n",
       "      <td>106766</td>\n",
       "      <td>51548</td>\n",
       "      <td>55218</td>\n",
       "      <td>89.1</td>\n",
       "      <td>88.7</td>\n",
       "      <td>89.5</td>\n",
       "      <td>11.9</td>\n",
       "      <td>11.8</td>\n",
       "      <td>12.0</td>\n",
       "    </tr>\n",
       "    <tr>\n",
       "      <th>1</th>\n",
       "      <td>Riket</td>\n",
       "      <td>Kommunal</td>\n",
       "      <td>84163</td>\n",
       "      <td>40386</td>\n",
       "      <td>43777</td>\n",
       "      <td>88.1</td>\n",
       "      <td>87.7</td>\n",
       "      <td>88.5</td>\n",
       "      <td>11.6</td>\n",
       "      <td>11.5</td>\n",
       "      <td>11.7</td>\n",
       "    </tr>\n",
       "    <tr>\n",
       "      <th>2</th>\n",
       "      <td>Riket</td>\n",
       "      <td>Enskild</td>\n",
       "      <td>22553</td>\n",
       "      <td>11137</td>\n",
       "      <td>11416</td>\n",
       "      <td>92.9</td>\n",
       "      <td>92.2</td>\n",
       "      <td>93.5</td>\n",
       "      <td>13.0</td>\n",
       "      <td>12.8</td>\n",
       "      <td>13.1</td>\n",
       "    </tr>\n",
       "    <tr>\n",
       "      <th>3</th>\n",
       "      <td>Riket</td>\n",
       "      <td>Skolverket</td>\n",
       "      <td>50</td>\n",
       "      <td>25</td>\n",
       "      <td>25</td>\n",
       "      <td>~100</td>\n",
       "      <td>~100</td>\n",
       "      <td>~100</td>\n",
       "      <td>14.1</td>\n",
       "      <td>13.5</td>\n",
       "      <td>14.7</td>\n",
       "    </tr>\n",
       "  </tbody>\n",
       "</table>\n",
       "</div>"
      ],
      "text/plain": [
       "   Plats    Huvudman  Totalt(A-F)  Flickor(A-F)  Pojkar(A-F) Totalt(A-E)  \\\n",
       "0  Riket    Samtliga       106766         51548        55218        89.1   \n",
       "1  Riket    Kommunal        84163         40386        43777        88.1   \n",
       "2  Riket     Enskild        22553         11137        11416        92.9   \n",
       "3  Riket  Skolverket           50            25           25        ~100   \n",
       "\n",
       "  Flickor(A-E) Pojkar(A-E)  TotaltPoäng  FlickorPoäng  PojkarPoäng  \n",
       "0         88.7        89.5         11.9          11.8         12.0  \n",
       "1         87.7        88.5         11.6          11.5         11.7  \n",
       "2         92.2        93.5         13.0          12.8         13.1  \n",
       "3         ~100        ~100         14.1          13.5         14.7  "
      ]
     },
     "execution_count": 128,
     "metadata": {},
     "output_type": "execute_result"
    }
   ],
   "source": [
    "from copy import deepcopy\n",
    "\n",
    "df_dict_cleaned = deepcopy(df_dict)\n",
    "\n",
    "for subject in subjects:\n",
    "    new_columns = df_dict_cleaned[subject].columns.str.strip() + np.array(postfixes)\n",
    "    df_dict_cleaned[subject].columns = new_columns\n",
    "    df_dict_cleaned[subject]= df_dict_cleaned[subject].rename(\n",
    "        {\"Riket\": \"Plats\", \"Typ av huvudman\": \"Huvudman\"},axis = 1\n",
    "    )\n",
    "df_dict_cleaned[\"Matematik\"]"
   ]
  },
  {
   "cell_type": "markdown",
   "metadata": {},
   "source": [
    "# EDA"
   ]
  },
  {
   "cell_type": "code",
   "execution_count": 129,
   "metadata": {},
   "outputs": [
    {
     "data": {
      "text/html": [
       "<div>\n",
       "<style scoped>\n",
       "    .dataframe tbody tr th:only-of-type {\n",
       "        vertical-align: middle;\n",
       "    }\n",
       "\n",
       "    .dataframe tbody tr th {\n",
       "        vertical-align: top;\n",
       "    }\n",
       "\n",
       "    .dataframe thead th {\n",
       "        text-align: right;\n",
       "    }\n",
       "</style>\n",
       "<table border=\"1\" class=\"dataframe\">\n",
       "  <thead>\n",
       "    <tr style=\"text-align: right;\">\n",
       "      <th></th>\n",
       "      <th>Plats</th>\n",
       "      <th>Huvudman</th>\n",
       "      <th>Totalt(A-F)</th>\n",
       "      <th>Flickor(A-F)</th>\n",
       "      <th>Pojkar(A-F)</th>\n",
       "      <th>Totalt(A-E)</th>\n",
       "      <th>Flickor(A-E)</th>\n",
       "      <th>Pojkar(A-E)</th>\n",
       "      <th>TotaltPoäng</th>\n",
       "      <th>FlickorPoäng</th>\n",
       "      <th>PojkarPoäng</th>\n",
       "    </tr>\n",
       "  </thead>\n",
       "  <tbody>\n",
       "    <tr>\n",
       "      <th>0</th>\n",
       "      <td>Riket</td>\n",
       "      <td>Samtliga</td>\n",
       "      <td>106766</td>\n",
       "      <td>51548</td>\n",
       "      <td>55218</td>\n",
       "      <td>89.1</td>\n",
       "      <td>88.7</td>\n",
       "      <td>89.5</td>\n",
       "      <td>11.9</td>\n",
       "      <td>11.8</td>\n",
       "      <td>12.0</td>\n",
       "    </tr>\n",
       "    <tr>\n",
       "      <th>1</th>\n",
       "      <td>Riket</td>\n",
       "      <td>Kommunal</td>\n",
       "      <td>84163</td>\n",
       "      <td>40386</td>\n",
       "      <td>43777</td>\n",
       "      <td>88.1</td>\n",
       "      <td>87.7</td>\n",
       "      <td>88.5</td>\n",
       "      <td>11.6</td>\n",
       "      <td>11.5</td>\n",
       "      <td>11.7</td>\n",
       "    </tr>\n",
       "    <tr>\n",
       "      <th>2</th>\n",
       "      <td>Riket</td>\n",
       "      <td>Enskild</td>\n",
       "      <td>22553</td>\n",
       "      <td>11137</td>\n",
       "      <td>11416</td>\n",
       "      <td>92.9</td>\n",
       "      <td>92.2</td>\n",
       "      <td>93.5</td>\n",
       "      <td>13.0</td>\n",
       "      <td>12.8</td>\n",
       "      <td>13.1</td>\n",
       "    </tr>\n",
       "    <tr>\n",
       "      <th>3</th>\n",
       "      <td>Riket</td>\n",
       "      <td>Skolverket</td>\n",
       "      <td>50</td>\n",
       "      <td>25</td>\n",
       "      <td>25</td>\n",
       "      <td>~100</td>\n",
       "      <td>~100</td>\n",
       "      <td>~100</td>\n",
       "      <td>14.1</td>\n",
       "      <td>13.5</td>\n",
       "      <td>14.7</td>\n",
       "    </tr>\n",
       "  </tbody>\n",
       "</table>\n",
       "</div>"
      ],
      "text/plain": [
       "   Plats    Huvudman  Totalt(A-F)  Flickor(A-F)  Pojkar(A-F) Totalt(A-E)  \\\n",
       "0  Riket    Samtliga       106766         51548        55218        89.1   \n",
       "1  Riket    Kommunal        84163         40386        43777        88.1   \n",
       "2  Riket     Enskild        22553         11137        11416        92.9   \n",
       "3  Riket  Skolverket           50            25           25        ~100   \n",
       "\n",
       "  Flickor(A-E) Pojkar(A-E)  TotaltPoäng  FlickorPoäng  PojkarPoäng  \n",
       "0         88.7        89.5         11.9          11.8         12.0  \n",
       "1         87.7        88.5         11.6          11.5         11.7  \n",
       "2         92.2        93.5         13.0          12.8         13.1  \n",
       "3         ~100        ~100         14.1          13.5         14.7  "
      ]
     },
     "execution_count": 129,
     "metadata": {},
     "output_type": "execute_result"
    }
   ],
   "source": [
    "df_dict_cleaned[\"Matematik\"]"
   ]
  },
  {
   "cell_type": "code",
   "execution_count": 130,
   "metadata": {},
   "outputs": [
    {
     "name": "stdout",
     "output_type": "stream",
     "text": [
      "<class 'pandas.core.frame.DataFrame'>\n",
      "RangeIndex: 4 entries, 0 to 3\n",
      "Data columns (total 11 columns):\n",
      " #   Column        Non-Null Count  Dtype  \n",
      "---  ------        --------------  -----  \n",
      " 0   Plats         4 non-null      object \n",
      " 1   Huvudman      4 non-null      object \n",
      " 2   Totalt(A-F)   4 non-null      int64  \n",
      " 3   Flickor(A-F)  4 non-null      int64  \n",
      " 4   Pojkar(A-F)   4 non-null      int64  \n",
      " 5   Totalt(A-E)   4 non-null      object \n",
      " 6   Flickor(A-E)  4 non-null      object \n",
      " 7   Pojkar(A-E)   4 non-null      object \n",
      " 8   TotaltPoäng   4 non-null      float64\n",
      " 9   FlickorPoäng  4 non-null      float64\n",
      " 10  PojkarPoäng   4 non-null      float64\n",
      "dtypes: float64(3), int64(3), object(5)\n",
      "memory usage: 484.0+ bytes\n"
     ]
    }
   ],
   "source": [
    "df_dict_cleaned[\"Matematik\"].info()"
   ]
  },
  {
   "cell_type": "code",
   "execution_count": 133,
   "metadata": {},
   "outputs": [
    {
     "data": {
      "text/plain": [
       "0    106766\n",
       "1     84163\n",
       "2     22553\n",
       "3        50\n",
       "Name: Totalt(A-F), dtype: int64"
      ]
     },
     "execution_count": 133,
     "metadata": {},
     "output_type": "execute_result"
    }
   ],
   "source": [
    "df_dict_cleaned[\"Matematik\"][\"Totalt(A-F)\"]"
   ]
  },
  {
   "cell_type": "code",
   "execution_count": 135,
   "metadata": {},
   "outputs": [
    {
     "data": {
      "text/plain": [
       "Index(['Plats', 'Huvudman', 'Totalt(A-F)', 'Flickor(A-F)', 'Pojkar(A-F)',\n",
       "       'Totalt(A-E)', 'Flickor(A-E)', 'Pojkar(A-E)', 'TotaltPoäng',\n",
       "       'FlickorPoäng', 'PojkarPoäng'],\n",
       "      dtype='object')"
      ]
     },
     "execution_count": 135,
     "metadata": {},
     "output_type": "execute_result"
    }
   ],
   "source": [
    "df_dict_cleaned[\"Matematik\"].columns"
   ]
  },
  {
   "cell_type": "code",
   "execution_count": 137,
   "metadata": {},
   "outputs": [
    {
     "data": {
      "text/html": [
       "<div>\n",
       "<style scoped>\n",
       "    .dataframe tbody tr th:only-of-type {\n",
       "        vertical-align: middle;\n",
       "    }\n",
       "\n",
       "    .dataframe tbody tr th {\n",
       "        vertical-align: top;\n",
       "    }\n",
       "\n",
       "    .dataframe thead th {\n",
       "        text-align: right;\n",
       "    }\n",
       "</style>\n",
       "<table border=\"1\" class=\"dataframe\">\n",
       "  <thead>\n",
       "    <tr style=\"text-align: right;\">\n",
       "      <th></th>\n",
       "      <th>count</th>\n",
       "      <th>mean</th>\n",
       "      <th>std</th>\n",
       "      <th>min</th>\n",
       "      <th>25%</th>\n",
       "      <th>50%</th>\n",
       "      <th>75%</th>\n",
       "      <th>max</th>\n",
       "    </tr>\n",
       "  </thead>\n",
       "  <tbody>\n",
       "    <tr>\n",
       "      <th>Totalt(A-F)</th>\n",
       "      <td>4.0</td>\n",
       "      <td>53383.000</td>\n",
       "      <td>50305.900509</td>\n",
       "      <td>50.0</td>\n",
       "      <td>16927.250</td>\n",
       "      <td>53358.00</td>\n",
       "      <td>89813.750</td>\n",
       "      <td>106766.0</td>\n",
       "    </tr>\n",
       "    <tr>\n",
       "      <th>Flickor(A-F)</th>\n",
       "      <td>4.0</td>\n",
       "      <td>25774.000</td>\n",
       "      <td>24187.203159</td>\n",
       "      <td>25.0</td>\n",
       "      <td>8359.000</td>\n",
       "      <td>25761.50</td>\n",
       "      <td>43176.500</td>\n",
       "      <td>51548.0</td>\n",
       "    </tr>\n",
       "    <tr>\n",
       "      <th>Pojkar(A-F)</th>\n",
       "      <td>4.0</td>\n",
       "      <td>27609.000</td>\n",
       "      <td>26119.924770</td>\n",
       "      <td>25.0</td>\n",
       "      <td>8568.250</td>\n",
       "      <td>27596.50</td>\n",
       "      <td>46637.250</td>\n",
       "      <td>55218.0</td>\n",
       "    </tr>\n",
       "    <tr>\n",
       "      <th>TotaltPoäng</th>\n",
       "      <td>4.0</td>\n",
       "      <td>12.650</td>\n",
       "      <td>1.138713</td>\n",
       "      <td>11.6</td>\n",
       "      <td>11.825</td>\n",
       "      <td>12.45</td>\n",
       "      <td>13.275</td>\n",
       "      <td>14.1</td>\n",
       "    </tr>\n",
       "    <tr>\n",
       "      <th>FlickorPoäng</th>\n",
       "      <td>4.0</td>\n",
       "      <td>12.400</td>\n",
       "      <td>0.920145</td>\n",
       "      <td>11.5</td>\n",
       "      <td>11.725</td>\n",
       "      <td>12.30</td>\n",
       "      <td>12.975</td>\n",
       "      <td>13.5</td>\n",
       "    </tr>\n",
       "    <tr>\n",
       "      <th>PojkarPoäng</th>\n",
       "      <td>4.0</td>\n",
       "      <td>12.875</td>\n",
       "      <td>1.357387</td>\n",
       "      <td>11.7</td>\n",
       "      <td>11.925</td>\n",
       "      <td>12.55</td>\n",
       "      <td>13.500</td>\n",
       "      <td>14.7</td>\n",
       "    </tr>\n",
       "  </tbody>\n",
       "</table>\n",
       "</div>"
      ],
      "text/plain": [
       "              count       mean           std   min        25%       50%  \\\n",
       "Totalt(A-F)     4.0  53383.000  50305.900509  50.0  16927.250  53358.00   \n",
       "Flickor(A-F)    4.0  25774.000  24187.203159  25.0   8359.000  25761.50   \n",
       "Pojkar(A-F)     4.0  27609.000  26119.924770  25.0   8568.250  27596.50   \n",
       "TotaltPoäng     4.0     12.650      1.138713  11.6     11.825     12.45   \n",
       "FlickorPoäng    4.0     12.400      0.920145  11.5     11.725     12.30   \n",
       "PojkarPoäng     4.0     12.875      1.357387  11.7     11.925     12.55   \n",
       "\n",
       "                    75%       max  \n",
       "Totalt(A-F)   89813.750  106766.0  \n",
       "Flickor(A-F)  43176.500   51548.0  \n",
       "Pojkar(A-F)   46637.250   55218.0  \n",
       "TotaltPoäng      13.275      14.1  \n",
       "FlickorPoäng     12.975      13.5  \n",
       "PojkarPoäng      13.500      14.7  "
      ]
     },
     "execution_count": 137,
     "metadata": {},
     "output_type": "execute_result"
    }
   ],
   "source": [
    "df_dict_cleaned[\"Matematik\"].describe().transpose()"
   ]
  },
  {
   "cell_type": "markdown",
   "metadata": {},
   "source": [
    "## Amount of students that got F in math"
   ]
  },
  {
   "cell_type": "code",
   "execution_count": 142,
   "metadata": {},
   "outputs": [],
   "source": [
    "# totalt (A-F) - all students in a Huvudman\n",
    "# Totalt (A-E) - all students that have passed in a Huvudman\n",
    "# pick Huvudman samtliga\n",
    "\n",
    "df_math = df_dict_cleaned[\"Matematik\"]\n",
    "df_math\n",
    "\n"
   ]
  },
  {
   "cell_type": "code",
   "execution_count": 146,
   "metadata": {},
   "outputs": [
    {
     "data": {
      "text/plain": [
       "np.int64(106766)"
      ]
     },
     "execution_count": 146,
     "metadata": {},
     "output_type": "execute_result"
    }
   ],
   "source": [
    "import duckdb\n",
    "\n",
    "total_students = duckdb.query(\n",
    "\"\"\"\n",
    "    select \"Totalt(A-F)\"\n",
    "    From df_math\n",
    "    where huvudman = 'Samtliga'\n",
    "\"\"\"\n",
    ").df().values[0][0]\n",
    "\n",
    "total_students\n"
   ]
  },
  {
   "cell_type": "code",
   "execution_count": 149,
   "metadata": {},
   "outputs": [
    {
     "data": {
      "text/plain": [
       "0    95128.506\n",
       "Name: Totalt(A-E), dtype: object"
      ]
     },
     "execution_count": 149,
     "metadata": {},
     "output_type": "execute_result"
    }
   ],
   "source": [
    "students_passed = df_math.query(\"Huvudman == 'Samtliga'\")[\"Totalt(A-E)\"]*.01*total_students\n",
    "students_passed"
   ]
  },
  {
   "cell_type": "code",
   "execution_count": 153,
   "metadata": {},
   "outputs": [
    {
     "data": {
      "text/plain": [
       "0    11637.494\n",
       "Name: Totalt(A-E), dtype: object"
      ]
     },
     "execution_count": 153,
     "metadata": {},
     "output_type": "execute_result"
    }
   ],
   "source": [
    "students_failed = total_students - students_passed \n",
    "students_failed"
   ]
  },
  {
   "cell_type": "markdown",
   "metadata": {},
   "source": [
    "Bar"
   ]
  }
 ],
 "metadata": {
  "kernelspec": {
   "display_name": ".venv",
   "language": "python",
   "name": "python3"
  },
  "language_info": {
   "codemirror_mode": {
    "name": "ipython",
    "version": 3
   },
   "file_extension": ".py",
   "mimetype": "text/x-python",
   "name": "python",
   "nbconvert_exporter": "python",
   "pygments_lexer": "ipython3",
   "version": "3.12.5"
  }
 },
 "nbformat": 4,
 "nbformat_minor": 2
}
