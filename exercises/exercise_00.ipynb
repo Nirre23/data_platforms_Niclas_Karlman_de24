{
 "cells": [
  {
   "cell_type": "markdown",
   "metadata": {},
   "source": [
    "**User input for ETL parameters**"
   ]
  },
  {
   "cell_type": "code",
   "execution_count": null,
   "metadata": {},
   "outputs": [],
   "source": [
    "source_path = input(\"Enter the source path\")\n",
    "destination_path = input(\"Enter your destination path\")\n",
    "\n",
    "# /c/Users/nirre/OneDrive/Skrivbord/github_repos/data_platforms_Niclas_Karlman_de24/exercises/input_data.csv\n",
    "# /c/Users/nirre/OneDrive/Skrivbord/github_repos/data_platforms_Niclas_Karlman_de24/exercises/output_data.csv\n",
    "\n",
    "print(f\"Source: {source_path}\")\n",
    "print(f\"Destination path: {destination_path}\")\n",
    "\n",
    "\n",
    "\n",
    "\n"
   ]
  },
  {
   "cell_type": "code",
   "execution_count": null,
   "metadata": {},
   "outputs": [],
   "source": [
    "source = input(\"Enter source here: \")\n",
    "destination = input(\"Enter destination here \")\n",
    "\n",
    "print(f\"Source: {source}\")\n",
    "print(f\" Destination: {destination} \")\n"
   ]
  },
  {
   "cell_type": "markdown",
   "metadata": {},
   "source": [
    "**1. Schema validation**"
   ]
  },
  {
   "cell_type": "markdown",
   "metadata": {},
   "source": [
    "a)"
   ]
  },
  {
   "cell_type": "code",
   "execution_count": null,
   "metadata": {},
   "outputs": [],
   "source": [
    "record = dict(id=101, name=\"Erika\", is_active=True, age=45)\n",
    "record,type(record)"
   ]
  },
  {
   "cell_type": "code",
   "execution_count": null,
   "metadata": {},
   "outputs": [],
   "source": [
    "dictionary = dict(id = 23, name =\"Niclas\", loves_sports = True, age = 30)\n",
    "dictionary,type(dictionary)"
   ]
  },
  {
   "cell_type": "code",
   "execution_count": 5,
   "metadata": {},
   "outputs": [],
   "source": [
    "dictionary = { \"id\": int, \"name\" : str, \"loves_sports\": bool, \"age\": int}"
   ]
  },
  {
   "cell_type": "markdown",
   "metadata": {},
   "source": [
    "b)\n"
   ]
  },
  {
   "cell_type": "code",
   "execution_count": null,
   "metadata": {},
   "outputs": [],
   "source": [
    "schema = {\"id\" : int, \"name\": str, \"is_active\": bool, \"age\": int}\n",
    "schema.keys()"
   ]
  },
  {
   "cell_type": "code",
   "execution_count": null,
   "metadata": {},
   "outputs": [],
   "source": [
    "record[\"id\"],schema[\"id\"],record[\"is_active\"],schema[\"is_active\"]"
   ]
  },
  {
   "cell_type": "code",
   "execution_count": null,
   "metadata": {},
   "outputs": [],
   "source": [
    "dictionary[\"id\"],record[\"id\"],dictionary[\"loves_sports\"],record[\"is_active\"]"
   ]
  },
  {
   "cell_type": "code",
   "execution_count": null,
   "metadata": {},
   "outputs": [],
   "source": [
    "type(record[\"id\"]) == schema[\"id\"]"
   ]
  },
  {
   "cell_type": "code",
   "execution_count": null,
   "metadata": {},
   "outputs": [],
   "source": [
    "isinstance(5,int)\n",
    "isinstance(record[\"id\"],int)"
   ]
  },
  {
   "cell_type": "code",
   "execution_count": null,
   "metadata": {},
   "outputs": [],
   "source": [
    "isinstance(5,int)\n",
    "isinstance(dictionary[\"age\"],int)\n",
    "isinstance(dictionary[\"name\"],str)\n",
    "isinstance(record[\"id\"],str)"
   ]
  },
  {
   "cell_type": "code",
   "execution_count": null,
   "metadata": {},
   "outputs": [],
   "source": [
    "validation_list = []\n",
    "\n",
    "for key, data_type in schema.items():\n",
    "    validation_list.append(isinstance(record[key], data_type))\n",
    "all(validation_list)"
   ]
  },
  {
   "cell_type": "code",
   "execution_count": null,
   "metadata": {},
   "outputs": [],
   "source": [
    "val_list = []\n",
    "for key , data_type in dictionary.items():\n",
    "    val_list.append(isinstance(dictionary[key],data_type))\n",
    "result = all(val_list)\n",
    "print(result)"
   ]
  },
  {
   "cell_type": "code",
   "execution_count": null,
   "metadata": {},
   "outputs": [],
   "source": [
    "all([False,False])"
   ]
  },
  {
   "cell_type": "code",
   "execution_count": null,
   "metadata": {},
   "outputs": [],
   "source": [
    "all((isinstance(record[key],data_type) for key , data_type in schema.items()))"
   ]
  },
  {
   "cell_type": "code",
   "execution_count": null,
   "metadata": {},
   "outputs": [],
   "source": [
    "[key for key in schema]"
   ]
  },
  {
   "cell_type": "code",
   "execution_count": null,
   "metadata": {},
   "outputs": [],
   "source": [
    "person = {\n",
    "    \"id\": 101,\n",
    "    \"name\": \"Erika\",\n",
    "    \"is_active\": True,\n",
    "    \"age\": 45 \n",
    "           }\n",
    "person\n",
    "\n",
    "def validate(person):\n",
    "    if type(person.get(\"id\")) != int:\n",
    "        return False\n",
    "    if type(person.get(\"name\")) != str:\n",
    "        return False\n",
    "    if type(person.get(\"is_active\")) != bool:\n",
    "        return False\n",
    "    if type(person.get(\"age\")) != int:\n",
    "        return False\n",
    "    return True\n",
    "\n",
    "print(validate(person))   "
   ]
  },
  {
   "cell_type": "code",
   "execution_count": null,
   "metadata": {},
   "outputs": [],
   "source": [
    "def validate(person):\n",
    "    if type(person.get(\"id\")) != int:\n",
    "        return False\n",
    "    if type(person.get(\"name\")) != str:\n",
    "        return False\n",
    "    if type(person.get(\"is_active\")) != bool:\n",
    "        return False\n",
    "    if type(person.get(\"age\")) != int:\n",
    "        return False\n",
    "\n",
    "print(validate(person))    "
   ]
  },
  {
   "cell_type": "code",
   "execution_count": null,
   "metadata": {},
   "outputs": [],
   "source": [
    "person2 = {\n",
    "    \"id\": 23,\n",
    "    \"name\" : \"Niclas\",\n",
    "    \"age\" : 30,\n",
    "    \"is_active\" : False,\n",
    "    \n",
    "    \n",
    "}\n",
    "print (person2)\n"
   ]
  },
  {
   "cell_type": "code",
   "execution_count": null,
   "metadata": {},
   "outputs": [],
   "source": [
    "def validera(person2):\n",
    "    if type(person2.get(\"name\")) != str:\n",
    "        return False\n",
    "    if type(person2.get(\"age\")) != int:\n",
    "        return False\n",
    "    if type(person2.get(\"job\")) != bool:\n",
    "        return False\n",
    "    if type(person2.get(\"height\")) != int:\n",
    "        return False\n",
    "    return True\n",
    "\n",
    "print(validera(person2))\n"
   ]
  },
  {
   "cell_type": "code",
   "execution_count": null,
   "metadata": {},
   "outputs": [],
   "source": [
    "person3 = {\n",
    "    \"id\": 103,\n",
    "    \"name\": \"Lars\",\n",
    "    \"age\" : \"25\",\n",
    "    \"is_active\" : True,\n",
    "    \n",
    "}\n",
    "print(person3)"
   ]
  },
  {
   "cell_type": "code",
   "execution_count": 22,
   "metadata": {},
   "outputs": [],
   "source": [
    "person4 = {\n",
    "    \"id\": 102,\n",
    "    \"name\": \"David\",\n",
    "    \"age\": 29,\n",
    "    \"is_active\": \"NOPE\"}"
   ]
  },
  {
   "cell_type": "code",
   "execution_count": null,
   "metadata": {},
   "outputs": [],
   "source": [
    "records = [person,person2,person3,person4]\n",
    "import json\n",
    "print(json.dumps(records,indent=4))"
   ]
  },
  {
   "cell_type": "code",
   "execution_count": null,
   "metadata": {},
   "outputs": [],
   "source": [
    "def validation(records):\n",
    "    for record in records:\n",
    "        if not all(key in record for key in[\"id\",\"name\",\"is_active\",\"age\"]):\n",
    "            return False\n",
    "    \n",
    "    if type(record[\"id\"]) != int:\n",
    "        return False\n",
    "    if type(record[\"name\"]) != str:\n",
    "        return False\n",
    "    if type(record[\"is_active\"]) != bool:\n",
    "        return False\n",
    "    if type(record(\"age\")) not in [int,float]:\n",
    "        return False\n",
    "    return True\n",
    "print(validation(records))    \n",
    "    "
   ]
  },
  {
   "cell_type": "code",
   "execution_count": null,
   "metadata": {},
   "outputs": [],
   "source": [
    "# Be användaren om filvägar\n",
    "source_path = input(\"Enter the source file path: \")\n",
    "destination_path = input(\"Enter the destination file path: \")\n",
    "\n",
    "# Skriv ut filvägarna\n",
    "print(f\"Source: {source_path}\")\n",
    "print(f\"Destination: {destination_path}\")\n"
   ]
  },
  {
   "cell_type": "code",
   "execution_count": null,
   "metadata": {},
   "outputs": [],
   "source": [
    "import json\n",
    "\n",
    "with open('data/paid.json', 'r') as file:\n",
    "    data = json.load(file)\n",
    "print(data)    \n",
    "    "
   ]
  },
  {
   "cell_type": "code",
   "execution_count": 1,
   "metadata": {},
   "outputs": [
    {
     "name": "stdout",
     "output_type": "stream",
     "text": [
      "Source path: hej\n",
      "Destination path där\n"
     ]
    }
   ],
   "source": [
    "source_path = input(\"Input source path:\")\n",
    "destination_path = input(\"Input destination path:\")\n",
    "\n",
    "print(f\"Source path: {source_path}\")\n",
    "print(f\"Destination path: { destination_path}\")"
   ]
  },
  {
   "cell_type": "code",
   "execution_count": 4,
   "metadata": {},
   "outputs": [
    {
     "data": {
      "text/plain": [
       "{'id': 101, 'name': 'Erika', 'is_active': True, 'age': 45}"
      ]
     },
     "execution_count": 4,
     "metadata": {},
     "output_type": "execute_result"
    }
   ],
   "source": [
    "dictionary = dict(id = 101,name =  \"Erika\",is_active = True, age = 45)\n",
    "dictionary\n"
   ]
  },
  {
   "cell_type": "code",
   "execution_count": 16,
   "metadata": {},
   "outputs": [
    {
     "name": "stdout",
     "output_type": "stream",
     "text": [
      "True\n"
     ]
    }
   ],
   "source": [
    "if isinstance(dictionary[\"id\"], int) \\\n",
    "    and isinstance(dictionary[\"name\"],str) \\\n",
    "    and isinstance(dictionary[\"is_active\"], bool) \\\n",
    "    and isinstance(dictionary[\"age\"],int): \n",
    "    print(True)\n",
    "else:\n",
    "    print(False)"
   ]
  },
  {
   "cell_type": "code",
   "execution_count": 20,
   "metadata": {},
   "outputs": [
    {
     "data": {
      "text/plain": [
       "{'id': [102, 103, 104, 105],\n",
       " 'name': ['Marcus', 'David', 'Anna', 'Ingrid'],\n",
       " 'is_active': [True, False, True, 'Nope'],\n",
       " 'age': [34, 29, 41.5, 8]}"
      ]
     },
     "execution_count": 20,
     "metadata": {},
     "output_type": "execute_result"
    }
   ],
   "source": [
    "from os import name\n",
    "\n",
    "\n",
    "my_dict = dict(\n",
    "id=[102,103,104,105],\n",
    "name =[\"Marcus\", \"David\", \"Anna\", \"Ingrid\"],\n",
    "is_active = [True,False,True,\"Nope\"],\n",
    "age = [34,29,41.5,8]\n",
    ")\n",
    "my_dict\n"
   ]
  },
  {
   "cell_type": "code",
   "execution_count": 28,
   "metadata": {},
   "outputs": [
    {
     "name": "stdout",
     "output_type": "stream",
     "text": [
      "{'id': 102, 'name': 'Marcus', 'is_active': True, 'age': 34}\n",
      "{'id': 103, 'name': 'David', 'is_active': False, 'age': 29}\n",
      "{'id': 104, 'name': 'Anna', 'is_active': True, 'age': 41.5}\n",
      "{'id': 105, 'name': 'Ingrid', 'is_active': 'Nope', 'age': 8}\n",
      "Fel: : 'is_active' för objekt {'id': 105, 'name': 'Ingrid', 'is_active': 'Nope', 'age': 8} är inte en boolean (värdet är Nope).\n",
      "Misslyckades\n"
     ]
    }
   ],
   "source": [
    "import json\n",
    "from xmlrpc.client import Boolean\n",
    "\n",
    "json_data = {'id': [102, 103, 104, 105],\n",
    " 'name': ['Marcus', 'David', 'Anna', 'Ingrid'],\n",
    " 'is_active': [True, False, True, 'Nope'],\n",
    " 'age': [34, 29, 41.5, 8]}\n",
    "\n",
    "data = []\n",
    "for i in range(len(json_data['id'])):\n",
    "    obj = {\n",
    "        'id': json_data['id'][i],\n",
    "        'name': json_data['name'][i],\n",
    "        'is_active': json_data['is_active'][i],\n",
    "        'age': json_data['age'][i]\n",
    "    }\n",
    "    data.append(obj)\n",
    "    print(obj)\n",
    "\n",
    "def validate_json(data):\n",
    "    for obj in data:\n",
    "        if not isinstance(obj,dict):\n",
    "            return  False\n",
    "        \n",
    "        if not isinstance(obj.get(\"id\"),int):\n",
    "            return False\n",
    "        if not isinstance(obj.get(\"name\"),str):\n",
    "            return False\n",
    "        if not isinstance(obj.get(\"is_active\"), Boolean):\n",
    "            print(f\"Fel: : 'is_active' för objekt {obj} är inte en boolean (värdet är {obj.get('is_active')}).\")\n",
    "            return False\n",
    "        if not isinstance(obj.get(\"age\"),(int,float)):\n",
    "            return False\n",
    "    return True        \n",
    "if validate_json(data):\n",
    "    print(\"Lyckades\")\n",
    "else:\n",
    "    print(\"Misslyckades\")\n",
    "\n"
   ]
  },
  {
   "cell_type": "code",
   "execution_count": 32,
   "metadata": {},
   "outputs": [
    {
     "name": "stdout",
     "output_type": "stream",
     "text": [
      "Fel, is_active i objektet {'id': 105, 'name': 'Ingrid', 'is_active': 'Nope', 'age': 8} är inte typ av bool\n"
     ]
    },
    {
     "data": {
      "text/plain": [
       "False"
      ]
     },
     "execution_count": 32,
     "metadata": {},
     "output_type": "execute_result"
    }
   ],
   "source": [
    "\n",
    "\n",
    "\n",
    "def validate_schema(data):\n",
    "    \n",
    "    schema = {\n",
    "        \"id\" : int,\n",
    "        \"name\": str,\n",
    "        \"is_active\": bool,\n",
    "        \"age\": (int,float)\n",
    "    }\n",
    "    \n",
    "    for obj in data:\n",
    "        if not isinstance(obj,dict):\n",
    "            print(f\"Fel, objektet är inte en dictionary: {obj}\")\n",
    "            return False\n",
    "    \n",
    "    for field, field_type in schema.items():\n",
    "        if field not in obj:\n",
    "            print(f\"Fel, fältet {field} saknas i objektet {obj}\")  \n",
    "            return False\n",
    "    \n",
    "        if not isinstance(obj[field],field_type):\n",
    "            print(f\"Fel, {field} i objektet {obj} är inte typ av {field_type.__name__}\")\n",
    "            return False\n",
    "        \n",
    "    return True               \n",
    "\n",
    "validate_schema(data)"
   ]
  },
  {
   "cell_type": "code",
   "execution_count": 36,
   "metadata": {},
   "outputs": [
    {
     "data": {
      "text/plain": [
       "False"
      ]
     },
     "execution_count": 36,
     "metadata": {},
     "output_type": "execute_result"
    }
   ],
   "source": [
    "from operator import inv\n",
    "\n",
    "\n",
    "def len10(lista):\n",
    "\n",
    "    if len(lista) != 10:\n",
    "        print(\"Error list must contain exactly ten elements.\")\n",
    "        return False\n",
    "    \n",
    "    for item in lista:\n",
    "        if item is None:\n",
    "            print(\"Error, list contains 'None' which is not valid.\")\n",
    "        return False\n",
    "    print(\"The list is valid.\")\n",
    "\n",
    "invalid_list= [1,2,3,None]\n",
    "lista = [1,2,3,4,5,6,7,8,9,10]\n",
    "\n",
    "len10(lista)     \n",
    "        "
   ]
  },
  {
   "cell_type": "code",
   "execution_count": 39,
   "metadata": {},
   "outputs": [
    {
     "name": "stdout",
     "output_type": "stream",
     "text": [
      "[{'name': 'Alice', 'paid': 100}, {'name': 'Bob', 'paid': 200}, {'name': 'Alice', 'paid': 150}, {'name': 'Erik', 'paid': 180}, {'name': 'Maja', 'paid': 220}, {'name': 'Bob', 'paid': 180}, {'name': 'Alice', 'paid': 130}, {'name': 'Oskar', 'paid': 140}, {'name': 'Elsa', 'paid': 170}, {'name': 'Maja', 'paid': 250}, {'name': 'Liam', 'paid': 210}, {'name': 'Alice', 'paid': 190}, {'name': 'Astrid', 'paid': 190}, {'name': 'Elsa', 'paid': 150}, {'name': 'Bob', 'paid': 120}, {'name': 'Erik', 'paid': 200}, {'name': 'Maja', 'paid': 180}, {'name': 'Liam', 'paid': 170}, {'name': 'Bob', 'paid': 140}, {'name': 'Oskar', 'paid': 160}, {'name': 'Freja', 'paid': 240}, {'name': 'Hugo', 'paid': 250}, {'name': 'Freja', 'paid': 200}, {'name': 'Nils', 'paid': 130}, {'name': 'Freja', 'paid': 180}, {'name': 'Wilma', 'paid': 200}, {'name': 'Alexander', 'paid': 260}, {'name': 'Clara', 'paid': 280}, {'name': 'Alice', 'paid': 175}, {'name': 'Selma', 'paid': 175}, {'name': 'Erik', 'paid': 190}, {'name': 'Elias', 'paid': 190}]\n"
     ]
    }
   ],
   "source": [
    "import json\n",
    "with open(\"data/paid.json\",\"r\",encoding= \"utf-8\") as file:\n",
    "    data = json.load(file)\n",
    "    \n",
    "print(data)    "
   ]
  },
  {
   "cell_type": "code",
   "execution_count": 42,
   "metadata": {},
   "outputs": [
    {
     "name": "stdout",
     "output_type": "stream",
     "text": [
      "defaultdict(<class 'int'>, {'Alice': 745, 'Bob': 640, 'Erik': 570, 'Maja': 650, 'Oskar': 300, 'Elsa': 320, 'Liam': 380, 'Astrid': 190, 'Freja': 620, 'Hugo': 250, 'Nils': 130, 'Wilma': 200, 'Alexander': 260, 'Clara': 280, 'Selma': 175, 'Elias': 190})\n"
     ]
    }
   ],
   "source": [
    "from collections import defaultdict\n",
    "\n",
    "paid_summary = defaultdict(int)\n",
    "\n",
    "for entry in data:\n",
    "    name = entry[\"name\"]\n",
    "    paid = entry[\"paid\"]\n",
    "    paid_summary[name] += paid\n",
    "\n",
    "print (paid_summary)    "
   ]
  },
  {
   "cell_type": "code",
   "execution_count": 44,
   "metadata": {},
   "outputs": [
    {
     "name": "stdout",
     "output_type": "stream",
     "text": [
      "Resultatet har sparats i payment_sum.json\n"
     ]
    }
   ],
   "source": [
    "with open(\"payment_sum.json\",\"w\",) as f:\n",
    "    json.dump(paid_summary,f,indent=4)\n",
    "\n",
    "print(\"Resultatet har sparats i payment_sum.json\")    \n",
    "\n",
    "    "
   ]
  },
  {
   "cell_type": "code",
   "execution_count": 53,
   "metadata": {},
   "outputs": [
    {
     "name": "stdout",
     "output_type": "stream",
     "text": [
      "Starting data stream processing...\n",
      "\n",
      "Processed: record1\n",
      "Processed: record2\n",
      "Processed: record3\n",
      "Processed: record4\n",
      "STOP signal encountered. Ending stream processing.\n",
      "\n",
      "Data stream processing completed. Have a nice day!\n"
     ]
    }
   ],
   "source": [
    "import time\n",
    "simulated_streams = [\"record1\",\"record2\",\"record3\",\"record4\",\"STOP\",\"record5\"]\n",
    "print(\"Starting data stream processing...\"\"\\n\")\n",
    "\n",
    "for record in simulated_streams:\n",
    "    if record == \"STOP\":\n",
    "        print(\"STOP signal encountered. Ending stream processing.\" \"\\n\")\n",
    "        break\n",
    "    print(f\"Processed: {record}\")\n",
    "    time.sleep(1)\n",
    "print(\"Data stream processing completed. Have a nice day!\")"
   ]
  }
 ],
 "metadata": {
  "kernelspec": {
   "display_name": ".venv",
   "language": "python",
   "name": "python3"
  },
  "language_info": {
   "codemirror_mode": {
    "name": "ipython",
    "version": 3
   },
   "file_extension": ".py",
   "mimetype": "text/x-python",
   "name": "python",
   "nbconvert_exporter": "python",
   "pygments_lexer": "ipython3",
   "version": "3.12.5"
  }
 },
 "nbformat": 4,
 "nbformat_minor": 2
}
