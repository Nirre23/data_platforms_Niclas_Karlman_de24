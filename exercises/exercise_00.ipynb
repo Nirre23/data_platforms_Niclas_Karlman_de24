{
 "cells": [
  {
   "cell_type": "markdown",
   "metadata": {},
   "source": [
    "**User input for ETL parameters**"
   ]
  },
  {
   "cell_type": "code",
   "execution_count": 1,
   "metadata": {},
   "outputs": [
    {
     "name": "stdout",
     "output_type": "stream",
     "text": [
      "Source: \n",
      "Destination path: \n"
     ]
    }
   ],
   "source": [
    "source_path = input(\"Enter the source path\")\n",
    "destination_path = input(\"Enter your destination path\")\n",
    "\n",
    "# /c/Users/nirre/OneDrive/Skrivbord/github_repos/data_platforms_Niclas_Karlman_de24/exercises/input_data.csv\n",
    "# /c/Users/nirre/OneDrive/Skrivbord/github_repos/data_platforms_Niclas_Karlman_de24/exercises/output_data.csv\n",
    "\n",
    "print(f\"Source: {source_path}\")\n",
    "print(f\"Destination path: {destination_path}\")\n",
    "\n",
    "\n",
    "\n",
    "\n"
   ]
  },
  {
   "cell_type": "code",
   "execution_count": 2,
   "metadata": {},
   "outputs": [
    {
     "name": "stdout",
     "output_type": "stream",
     "text": [
      "Source: \n",
      " Destination:  \n"
     ]
    }
   ],
   "source": [
    "source = input(\"Enter source here: \")\n",
    "destination = input(\"Enter destination here \")\n",
    "\n",
    "print(f\"Source: {source}\")\n",
    "print(f\" Destination: {destination} \")\n"
   ]
  },
  {
   "cell_type": "markdown",
   "metadata": {},
   "source": [
    "**1. Schema validation**"
   ]
  },
  {
   "cell_type": "markdown",
   "metadata": {},
   "source": [
    "a)"
   ]
  },
  {
   "cell_type": "code",
   "execution_count": 3,
   "metadata": {},
   "outputs": [
    {
     "data": {
      "text/plain": [
       "({'id': 101, 'name': 'Erika', 'is_active': True, 'age': 45}, dict)"
      ]
     },
     "execution_count": 3,
     "metadata": {},
     "output_type": "execute_result"
    }
   ],
   "source": [
    "record = dict(id=101, name=\"Erika\", is_active=True, age=45)\n",
    "record,type(record)"
   ]
  },
  {
   "cell_type": "code",
   "execution_count": 4,
   "metadata": {},
   "outputs": [
    {
     "data": {
      "text/plain": [
       "({'id': 23, 'name': 'Niclas', 'loves_sports': True, 'age': 30}, dict)"
      ]
     },
     "execution_count": 4,
     "metadata": {},
     "output_type": "execute_result"
    }
   ],
   "source": [
    "dictionary = dict(id = 23, name =\"Niclas\", loves_sports = True, age = 30)\n",
    "dictionary,type(dictionary)"
   ]
  },
  {
   "cell_type": "code",
   "execution_count": 5,
   "metadata": {},
   "outputs": [],
   "source": [
    "dictionary = { \"id\": int, \"name\" : str, \"loves_sports\": bool, \"age\": int}"
   ]
  },
  {
   "cell_type": "markdown",
   "metadata": {},
   "source": [
    "b)\n"
   ]
  },
  {
   "cell_type": "code",
   "execution_count": 6,
   "metadata": {},
   "outputs": [
    {
     "data": {
      "text/plain": [
       "dict_keys(['id', 'name', 'is_active', 'age'])"
      ]
     },
     "execution_count": 6,
     "metadata": {},
     "output_type": "execute_result"
    }
   ],
   "source": [
    "schema = {\"id\" : int, \"name\": str, \"is_active\": bool, \"age\": int}\n",
    "schema.keys()"
   ]
  },
  {
   "cell_type": "code",
   "execution_count": 7,
   "metadata": {},
   "outputs": [
    {
     "data": {
      "text/plain": [
       "(101, int, True, bool)"
      ]
     },
     "execution_count": 7,
     "metadata": {},
     "output_type": "execute_result"
    }
   ],
   "source": [
    "record[\"id\"],schema[\"id\"],record[\"is_active\"],schema[\"is_active\"]"
   ]
  },
  {
   "cell_type": "code",
   "execution_count": 8,
   "metadata": {},
   "outputs": [
    {
     "data": {
      "text/plain": [
       "(int, 101, bool, True)"
      ]
     },
     "execution_count": 8,
     "metadata": {},
     "output_type": "execute_result"
    }
   ],
   "source": [
    "dictionary[\"id\"],record[\"id\"],dictionary[\"loves_sports\"],record[\"is_active\"]"
   ]
  },
  {
   "cell_type": "code",
   "execution_count": 9,
   "metadata": {},
   "outputs": [
    {
     "data": {
      "text/plain": [
       "True"
      ]
     },
     "execution_count": 9,
     "metadata": {},
     "output_type": "execute_result"
    }
   ],
   "source": [
    "type(record[\"id\"]) == schema[\"id\"]"
   ]
  },
  {
   "cell_type": "code",
   "execution_count": 10,
   "metadata": {},
   "outputs": [
    {
     "data": {
      "text/plain": [
       "True"
      ]
     },
     "execution_count": 10,
     "metadata": {},
     "output_type": "execute_result"
    }
   ],
   "source": [
    "isinstance(5,int)\n",
    "isinstance(record[\"id\"],int)"
   ]
  },
  {
   "cell_type": "code",
   "execution_count": 11,
   "metadata": {},
   "outputs": [
    {
     "data": {
      "text/plain": [
       "False"
      ]
     },
     "execution_count": 11,
     "metadata": {},
     "output_type": "execute_result"
    }
   ],
   "source": [
    "isinstance(5,int)\n",
    "isinstance(dictionary[\"age\"],int)\n",
    "isinstance(dictionary[\"name\"],str)\n",
    "isinstance(record[\"id\"],str)"
   ]
  },
  {
   "cell_type": "code",
   "execution_count": 12,
   "metadata": {},
   "outputs": [
    {
     "data": {
      "text/plain": [
       "True"
      ]
     },
     "execution_count": 12,
     "metadata": {},
     "output_type": "execute_result"
    }
   ],
   "source": [
    "validation_list = []\n",
    "\n",
    "for key, data_type in schema.items():\n",
    "    validation_list.append(isinstance(record[key], data_type))\n",
    "all(validation_list)"
   ]
  },
  {
   "cell_type": "code",
   "execution_count": 13,
   "metadata": {},
   "outputs": [
    {
     "name": "stdout",
     "output_type": "stream",
     "text": [
      "False\n"
     ]
    }
   ],
   "source": [
    "val_list = []\n",
    "for key , data_type in dictionary.items():\n",
    "    val_list.append(isinstance(dictionary[key],data_type))\n",
    "result = all(val_list)\n",
    "print(result)"
   ]
  },
  {
   "cell_type": "code",
   "execution_count": 14,
   "metadata": {},
   "outputs": [
    {
     "data": {
      "text/plain": [
       "False"
      ]
     },
     "execution_count": 14,
     "metadata": {},
     "output_type": "execute_result"
    }
   ],
   "source": [
    "all([False,False])"
   ]
  },
  {
   "cell_type": "code",
   "execution_count": 15,
   "metadata": {},
   "outputs": [
    {
     "data": {
      "text/plain": [
       "True"
      ]
     },
     "execution_count": 15,
     "metadata": {},
     "output_type": "execute_result"
    }
   ],
   "source": [
    "all((isinstance(record[key],data_type) for key , data_type in schema.items()))"
   ]
  },
  {
   "cell_type": "code",
   "execution_count": 16,
   "metadata": {},
   "outputs": [
    {
     "data": {
      "text/plain": [
       "['id', 'name', 'is_active', 'age']"
      ]
     },
     "execution_count": 16,
     "metadata": {},
     "output_type": "execute_result"
    }
   ],
   "source": [
    "[key for key in schema]"
   ]
  },
  {
   "cell_type": "code",
   "execution_count": 17,
   "metadata": {},
   "outputs": [
    {
     "name": "stdout",
     "output_type": "stream",
     "text": [
      "True\n"
     ]
    }
   ],
   "source": [
    "person = {\n",
    "    \"id\": 101,\n",
    "    \"name\": \"Erika\",\n",
    "    \"is_active\": True,\n",
    "    \"age\": 45 \n",
    "           }\n",
    "person\n",
    "\n",
    "def validate(person):\n",
    "    if type(person.get(\"id\")) != int:\n",
    "        return False\n",
    "    if type(person.get(\"name\")) != str:\n",
    "        return False\n",
    "    if type(person.get(\"is_active\")) != bool:\n",
    "        return False\n",
    "    if type(person.get(\"age\")) != int:\n",
    "        return False\n",
    "    return True\n",
    "\n",
    "print(validate(person))   "
   ]
  },
  {
   "cell_type": "code",
   "execution_count": 18,
   "metadata": {},
   "outputs": [
    {
     "name": "stdout",
     "output_type": "stream",
     "text": [
      "None\n"
     ]
    }
   ],
   "source": [
    "def validate(person):\n",
    "    if type(person.get(\"id\")) != int:\n",
    "        return False\n",
    "    if type(person.get(\"name\")) != str:\n",
    "        return False\n",
    "    if type(person.get(\"is_active\")) != bool:\n",
    "        return False\n",
    "    if type(person.get(\"age\")) != int:\n",
    "        return False\n",
    "\n",
    "print(validate(person))    "
   ]
  },
  {
   "cell_type": "code",
   "execution_count": 19,
   "metadata": {},
   "outputs": [
    {
     "name": "stdout",
     "output_type": "stream",
     "text": [
      "{'id': 23, 'name': 'Niclas', 'age': 30, 'is_active': False}\n"
     ]
    }
   ],
   "source": [
    "person2 = {\n",
    "    \"id\": 23,\n",
    "    \"name\" : \"Niclas\",\n",
    "    \"age\" : 30,\n",
    "    \"is_active\" : False,\n",
    "    \n",
    "    \n",
    "}\n",
    "print (person2)\n"
   ]
  },
  {
   "cell_type": "code",
   "execution_count": 20,
   "metadata": {},
   "outputs": [
    {
     "name": "stdout",
     "output_type": "stream",
     "text": [
      "False\n"
     ]
    }
   ],
   "source": [
    "def validera(person2):\n",
    "    if type(person2.get(\"name\")) != str:\n",
    "        return False\n",
    "    if type(person2.get(\"age\")) != int:\n",
    "        return False\n",
    "    if type(person2.get(\"job\")) != bool:\n",
    "        return False\n",
    "    if type(person2.get(\"height\")) != int:\n",
    "        return False\n",
    "    return True\n",
    "\n",
    "print(validera(person2))\n"
   ]
  },
  {
   "cell_type": "code",
   "execution_count": 21,
   "metadata": {},
   "outputs": [
    {
     "name": "stdout",
     "output_type": "stream",
     "text": [
      "{'id': 103, 'name': 'Lars', 'age': '25', 'is_active': True}\n"
     ]
    }
   ],
   "source": [
    "person3 = {\n",
    "    \"id\": 103,\n",
    "    \"name\": \"Lars\",\n",
    "    \"age\" : \"25\",\n",
    "    \"is_active\" : True,\n",
    "    \n",
    "}\n",
    "print(person3)"
   ]
  },
  {
   "cell_type": "code",
   "execution_count": 22,
   "metadata": {},
   "outputs": [],
   "source": [
    "person4 = {\n",
    "    \"id\": 102,\n",
    "    \"name\": \"David\",\n",
    "    \"age\": 29,\n",
    "    \"is_active\": \"NOPE\"}"
   ]
  },
  {
   "cell_type": "code",
   "execution_count": 23,
   "metadata": {},
   "outputs": [
    {
     "name": "stdout",
     "output_type": "stream",
     "text": [
      "[\n",
      "    {\n",
      "        \"id\": 101,\n",
      "        \"name\": \"Erika\",\n",
      "        \"is_active\": true,\n",
      "        \"age\": 45\n",
      "    },\n",
      "    {\n",
      "        \"id\": 23,\n",
      "        \"name\": \"Niclas\",\n",
      "        \"age\": 30,\n",
      "        \"is_active\": false\n",
      "    },\n",
      "    {\n",
      "        \"id\": 103,\n",
      "        \"name\": \"Lars\",\n",
      "        \"age\": \"25\",\n",
      "        \"is_active\": true\n",
      "    },\n",
      "    {\n",
      "        \"id\": 102,\n",
      "        \"name\": \"David\",\n",
      "        \"age\": 29,\n",
      "        \"is_active\": \"NOPE\"\n",
      "    }\n",
      "]\n"
     ]
    }
   ],
   "source": [
    "records = [person,person2,person3,person4]\n",
    "import json\n",
    "print(json.dumps(records,indent=4))"
   ]
  },
  {
   "cell_type": "code",
   "execution_count": 24,
   "metadata": {},
   "outputs": [
    {
     "name": "stdout",
     "output_type": "stream",
     "text": [
      "False\n"
     ]
    }
   ],
   "source": [
    "def validation(records):\n",
    "    for record in records:\n",
    "        if not all(key in record for key in[\"id\",\"name\",\"is_active\",\"age\"]):\n",
    "            return False\n",
    "    \n",
    "    if type(record[\"id\"]) != int:\n",
    "        return False\n",
    "    if type(record[\"name\"]) != str:\n",
    "        return False\n",
    "    if type(record[\"is_active\"]) != bool:\n",
    "        return False\n",
    "    if type(record(\"age\")) not in [int,float]:\n",
    "        return False\n",
    "    return True\n",
    "print(validation(records))    \n",
    "    "
   ]
  },
  {
   "cell_type": "code",
   "execution_count": 25,
   "metadata": {},
   "outputs": [
    {
     "name": "stdout",
     "output_type": "stream",
     "text": [
      "Source: \n",
      "Destination: \n"
     ]
    }
   ],
   "source": [
    "# Be användaren om filvägar\n",
    "source_path = input(\"Enter the source file path: \")\n",
    "destination_path = input(\"Enter the destination file path: \")\n",
    "\n",
    "# Skriv ut filvägarna\n",
    "print(f\"Source: {source_path}\")\n",
    "print(f\"Destination: {destination_path}\")\n"
   ]
  },
  {
   "cell_type": "code",
   "execution_count": 28,
   "metadata": {},
   "outputs": [
    {
     "name": "stdout",
     "output_type": "stream",
     "text": [
      "[{'name': 'Alice', 'paid': 100}, {'name': 'Bob', 'paid': 200}, {'name': 'Alice', 'paid': 150}, {'name': 'Erik', 'paid': 180}, {'name': 'Maja', 'paid': 220}, {'name': 'Bob', 'paid': 180}, {'name': 'Alice', 'paid': 130}, {'name': 'Oskar', 'paid': 140}, {'name': 'Elsa', 'paid': 170}, {'name': 'Maja', 'paid': 250}, {'name': 'Liam', 'paid': 210}, {'name': 'Alice', 'paid': 190}, {'name': 'Astrid', 'paid': 190}, {'name': 'Elsa', 'paid': 150}, {'name': 'Bob', 'paid': 120}, {'name': 'Erik', 'paid': 200}, {'name': 'Maja', 'paid': 180}, {'name': 'Liam', 'paid': 170}, {'name': 'Bob', 'paid': 140}, {'name': 'Oskar', 'paid': 160}, {'name': 'Freja', 'paid': 240}, {'name': 'Hugo', 'paid': 250}, {'name': 'Freja', 'paid': 200}, {'name': 'Nils', 'paid': 130}, {'name': 'Freja', 'paid': 180}, {'name': 'Wilma', 'paid': 200}, {'name': 'Alexander', 'paid': 260}, {'name': 'Clara', 'paid': 280}, {'name': 'Alice', 'paid': 175}, {'name': 'Selma', 'paid': 175}, {'name': 'Erik', 'paid': 190}, {'name': 'Elias', 'paid': 190}]\n"
     ]
    }
   ],
   "source": [
    "import json\n",
    "\n",
    "with open('data/paid.json', 'r') as file:\n",
    "    data = json.load(file)\n",
    "print(data)    \n",
    "    "
   ]
  }
 ],
 "metadata": {
  "kernelspec": {
   "display_name": ".venv",
   "language": "python",
   "name": "python3"
  },
  "language_info": {
   "codemirror_mode": {
    "name": "ipython",
    "version": 3
   },
   "file_extension": ".py",
   "mimetype": "text/x-python",
   "name": "python",
   "nbconvert_exporter": "python",
   "pygments_lexer": "ipython3",
   "version": "3.12.5"
  }
 },
 "nbformat": 4,
 "nbformat_minor": 2
}
