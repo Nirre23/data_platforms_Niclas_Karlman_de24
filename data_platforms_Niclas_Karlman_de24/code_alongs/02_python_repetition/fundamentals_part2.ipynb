{
 "cells": [
  {
   "cell_type": "markdown",
   "metadata": {},
   "source": [
    "**Default value**"
   ]
  },
  {
   "cell_type": "code",
   "execution_count": 6,
   "metadata": {},
   "outputs": [
    {
     "name": "stdout",
     "output_type": "stream",
     "text": [
      "OOOOO\n"
     ]
    }
   ],
   "source": [
    "# X 0 0 0 0\n",
    "# X X 0 0 0\n",
    "# X X X 0 0 \n",
    "# X X X 0 0\n",
    "# X X X X 0\n",
    "def draw_ascii_pattern(num_rows = 5):\n",
    "    print(num_rows*\"O\")\n",
    "    \n",
    "draw_ascii_pattern()    \n",
    "    \n",
    "    "
   ]
  },
  {
   "cell_type": "code",
   "execution_count": 7,
   "metadata": {},
   "outputs": [
    {
     "name": "stdout",
     "output_type": "stream",
     "text": [
      "OOOOO\n",
      "XOOOO\n",
      "XXOOO\n",
      "XXXOO\n",
      "XXXXO\n"
     ]
    }
   ],
   "source": [
    "def draw_ascii_pattern(num_rows = 5):\n",
    "    for i in range(num_rows):\n",
    "        print(f'{i*\"X\"}{(num_rows-i)*\"O\"}')\n",
    "        \n",
    "    \n",
    "draw_ascii_pattern(5)"
   ]
  },
  {
   "cell_type": "markdown",
   "metadata": {},
   "source": [
    "\\*args\n",
    "**arbitrary number of positional arguments**"
   ]
  },
  {
   "cell_type": "code",
   "execution_count": 8,
   "metadata": {},
   "outputs": [
    {
     "name": "stdout",
     "output_type": "stream",
     "text": [
      "(1, 2, 3, 4)\n"
     ]
    }
   ],
   "source": [
    "def mean_(*args):\n",
    "    print(args)\n",
    "mean_(1,2,3,4)    \n",
    "#outprints tuple"
   ]
  },
  {
   "cell_type": "code",
   "execution_count": 9,
   "metadata": {},
   "outputs": [
    {
     "name": "stdout",
     "output_type": "stream",
     "text": [
      "(1, 2)\n"
     ]
    }
   ],
   "source": [
    "mean_(1,2)"
   ]
  },
  {
   "cell_type": "code",
   "execution_count": 10,
   "metadata": {},
   "outputs": [
    {
     "data": {
      "text/plain": [
       "2.0"
      ]
     },
     "execution_count": 10,
     "metadata": {},
     "output_type": "execute_result"
    }
   ],
   "source": [
    "def mean_(*args):\n",
    "    sum_ = 0\n",
    "    \n",
    "    for arg in args:\n",
    "        sum_ += arg\n",
    "    return sum_/len(args)\n",
    "mean_(1,2,3)    "
   ]
  },
  {
   "cell_type": "markdown",
   "metadata": {},
   "source": [
    "\\*\\*Kwargs\n"
   ]
  },
  {
   "cell_type": "code",
   "execution_count": 11,
   "metadata": {},
   "outputs": [
    {
     "name": "stdout",
     "output_type": "stream",
     "text": [
      "{'a': 5, 'is_active': True, 'age': 33}\n",
      "options.keys() = dict_keys(['a', 'is_active', 'age'])\n",
      "options.values() = dict_values([5, True, 33])\n"
     ]
    }
   ],
   "source": [
    "def print_kwargs(**options):\n",
    "    print(options)\n",
    "    print(f\"{options.keys() = }\")\n",
    "    print(f\"{options.values() = }\")\n",
    "\n",
    "print_kwargs(a = 5, is_active = True, age = 33)    \n"
   ]
  },
  {
   "cell_type": "markdown",
   "metadata": {},
   "source": [
    "**File handling**"
   ]
  },
  {
   "cell_type": "code",
   "execution_count": 12,
   "metadata": {},
   "outputs": [
    {
     "data": {
      "text/plain": [
       "'SUperViseD LEARNinG IS a PaRt oF MaCHinE LEARniNG, wheRE aLgORithms LEARn FRom a tRAINIng DaTa Set. THese aLgORithms TRY TO MaKE SeNSe Of ThE DaTa BY MaTChiNG INpUtS TO CoRResPonDInG OutpUTs. In suPERviseD LEARNing, EACH DaTa PoINt in ThE tRAINIng Set IS LaBELEd WiTH ThE CoRReCT OutpUT, WHich aLLOWS thE ALgORithM To LEARn FRom ThE ExAMPles. THis alLOWS thE ALgORithM To MaKe PREDIcTions On UnSEEN DaTa, BaSED On ITs TRaiNIng. iT IS USEd FoR taSKS SuCH AS CLaSSIFICaTion, WheRE ThE GoAL IS To aSSIGn a LaBEL To InpUt DaTa, anD REGrESsIoN, WheRE ThE GoAL IS To PREDIcT a CoNtINuoUS OutpUT VaRIabLE. SuPERviseD LEARNing HaS MaNY APPLIcatIoNS In ArEas LIke Image ReCOGNitiON, NatuRaL LaNGuaGE PRoCESSINg, anD FiNaNCiaL FoRECasting.'"
      ]
     },
     "execution_count": 12,
     "metadata": {},
     "output_type": "execute_result"
    }
   ],
   "source": [
    "import re\n",
    "\n",
    "with open(\"data/ml_text_raw.txt\", 'r') as file:\n",
    "    raw_text = file.read()\n",
    "\n",
    "test_fixed_spacing = re.sub(r\"\\s+\",\" \",raw_text) \n",
    "test_fixed_spacing \n",
    "\n",
    "  "
   ]
  },
  {
   "cell_type": "code",
   "execution_count": 17,
   "metadata": {},
   "outputs": [
    {
     "data": {
      "text/plain": [
       "['SUperViseD LEARNinG IS a PaRt oF MaCHinE LEARniNG, wheRE aLgORithms LEARn FRom a tRAINIng DaTa Set',\n",
       " 'THese aLgORithms TRY TO MaKE SeNSe Of ThE DaTa BY MaTChiNG INpUtS TO CoRResPonDInG OutpUTs',\n",
       " 'In suPERviseD LEARNing, EACH DaTa PoINt in ThE tRAINIng Set IS LaBELEd WiTH ThE CoRReCT OutpUT, WHich aLLOWS thE ALgORithM To LEARn FRom ThE ExAMPles',\n",
       " 'THis alLOWS thE ALgORithM To MaKe PREDIcTions On UnSEEN DaTa, BaSED On ITs TRaiNIng',\n",
       " 'iT IS USEd FoR taSKS SuCH AS CLaSSIFICaTion, WheRE ThE GoAL IS To aSSIGn a LaBEL To InpUt DaTa, anD REGrESsIoN, WheRE ThE GoAL IS To PREDIcT a CoNtINuoUS OutpUT VaRIabLE',\n",
       " 'SuPERviseD LEARNing HaS MaNY APPLIcatIoNS In ArEas LIke Image ReCOGNitiON, NatuRaL LaNGuaGE PRoCESSINg, anD FiNaNCiaL FoRECasting.']"
      ]
     },
     "execution_count": 17,
     "metadata": {},
     "output_type": "execute_result"
    }
   ],
   "source": [
    "test_fixed_spacing.split(\". \")"
   ]
  },
  {
   "cell_type": "code",
   "execution_count": 14,
   "metadata": {},
   "outputs": [
    {
     "name": "stdout",
     "output_type": "stream",
     "text": [
      "Supervised learning is a part of machine learning, where algorithms learn from a training data set.\n",
      "These algorithms try to make sense of the data by matching inputs to corresponding outputs.\n",
      "In supervised learning, each data point in the training set is labeled with the correct output, which allows the algorithm to learn from the examples.\n",
      "This allows the algorithm to make predictions on unseen data, based on its training.\n",
      "It is used for tasks such as classification, where the goal is to assign a label to input data, and regression, where the goal is to predict a continuous output variable.\n",
      "Supervised learning has many applications in areas like image recognition, natural language processing, and financial forecasting\n"
     ]
    }
   ],
   "source": [
    "sentences = [text.strip().capitalize() for text in test_fixed_spacing.split(\".\")]\n",
    "sentences = sentences[:-1]\n",
    "sentences\n"
   ]
  },
  {
   "cell_type": "code",
   "execution_count": 22,
   "metadata": {},
   "outputs": [
    {
     "name": "stdout",
     "output_type": "stream",
     "text": [
      "Supervised learning is a part of machine learning, where algorithms learn from a training data set.\n",
      "These algorithms try to make sense of the data by matching inputs to corresponding outputs.\n",
      "In supervised learning, each data point in the training set is labeled with the correct output, which allows the algorithm to learn from the examples.\n",
      "This allows the algorithm to make predictions on unseen data, based on its training.\n",
      "It is used for tasks such as classification, where the goal is to assign a label to input data, and regression, where the goal is to predict a continuous output variable.\n",
      "Supervised learning has many applications in areas like image recognition, natural language processing, and financial forecasting\n"
     ]
    }
   ],
   "source": [
    "\n",
    "cleaned_text = \".\\n\".join(sentences)\n",
    "print(cleaned_text)"
   ]
  },
  {
   "cell_type": "code",
   "execution_count": 23,
   "metadata": {},
   "outputs": [],
   "source": [
    "with open(\"data/cleaned_ml_text.txt\",'w') as file:\n",
    "    file.write(cleaned_text)"
   ]
  },
  {
   "cell_type": "markdown",
   "metadata": {},
   "source": [
    "## ERRORS\n",
    "*Syntax errors* \n",
    "*runtime errors*\n",
    "*logical errors*"
   ]
  },
  {
   "cell_type": "code",
   "execution_count": 25,
   "metadata": {},
   "outputs": [],
   "source": [
    "#  prin(\"hello\")"
   ]
  },
  {
   "cell_type": "code",
   "execution_count": 27,
   "metadata": {},
   "outputs": [
    {
     "name": "stdout",
     "output_type": "stream",
     "text": [
      "[0, 1, 2, 3, 4]\n"
     ]
    }
   ],
   "source": [
    "# Runtime error\n",
    "numbers = list(range(5))\n",
    "print(numbers)\n"
   ]
  },
  {
   "cell_type": "code",
   "execution_count": 6,
   "metadata": {},
   "outputs": [
    {
     "name": "stdout",
     "output_type": "stream",
     "text": [
      "area_circle = 78.54\n"
     ]
    }
   ],
   "source": [
    "import numpy as np\n",
    "\n",
    "radius = 5\n",
    "\n",
    "area_circle = np.pi*radius**2\n",
    "print(f\"{area_circle = :.2f}\")"
   ]
  },
  {
   "cell_type": "code",
   "execution_count": 7,
   "metadata": {},
   "outputs": [
    {
     "name": "stdout",
     "output_type": "stream",
     "text": [
      "area = 78.54\n"
     ]
    }
   ],
   "source": [
    "import math\n",
    "\n",
    "radius = 5\n",
    "area = math.pi * radius**2\n",
    "print(f\"{area = :.2f}\")"
   ]
  },
  {
   "cell_type": "markdown",
   "metadata": {},
   "source": [
    "**TRY EXCEPT**"
   ]
  },
  {
   "cell_type": "code",
   "execution_count": null,
   "metadata": {},
   "outputs": [
    {
     "data": {
      "text/plain": [
       "-5.0"
      ]
     },
     "execution_count": 10,
     "metadata": {},
     "output_type": "execute_result"
    }
   ],
   "source": [
    "age = float(input(\"Enter age : \"))\n",
    "age    "
   ]
  },
  {
   "cell_type": "code",
   "execution_count": 11,
   "metadata": {},
   "outputs": [
    {
     "name": "stdout",
     "output_type": "stream",
     "text": [
      "You are 30.0 years old.\n"
     ]
    }
   ],
   "source": [
    "\n",
    "age = float(input(\"Enter age : \"))\n",
    "if not 0 <= age <=125:\n",
    "    raise ValueError(\"Age must ve between 0 and 12\")   \n",
    "print(f\"You are {age} years old.\")"
   ]
  },
  {
   "cell_type": "code",
   "execution_count": 12,
   "metadata": {},
   "outputs": [
    {
     "ename": "ValueError",
     "evalue": "Age must ve between 0 and 12",
     "output_type": "error",
     "traceback": [
      "\u001b[1;31m---------------------------------------------------------------------------\u001b[0m",
      "\u001b[1;31mValueError\u001b[0m                                Traceback (most recent call last)",
      "Cell \u001b[1;32mIn[12], line 3\u001b[0m\n\u001b[0;32m      1\u001b[0m age \u001b[38;5;241m=\u001b[39m \u001b[38;5;28mfloat\u001b[39m(\u001b[38;5;28minput\u001b[39m(\u001b[38;5;124m\"\u001b[39m\u001b[38;5;124mEnter age : \u001b[39m\u001b[38;5;124m\"\u001b[39m))\n\u001b[0;32m      2\u001b[0m \u001b[38;5;28;01mif\u001b[39;00m \u001b[38;5;129;01mnot\u001b[39;00m \u001b[38;5;241m0\u001b[39m \u001b[38;5;241m<\u001b[39m\u001b[38;5;241m=\u001b[39m age \u001b[38;5;241m<\u001b[39m\u001b[38;5;241m=\u001b[39m\u001b[38;5;241m125\u001b[39m:\n\u001b[1;32m----> 3\u001b[0m     \u001b[38;5;28;01mraise\u001b[39;00m \u001b[38;5;167;01mValueError\u001b[39;00m(\u001b[38;5;124m\"\u001b[39m\u001b[38;5;124mAge must ve between 0 and 12\u001b[39m\u001b[38;5;124m\"\u001b[39m)   \n\u001b[0;32m      4\u001b[0m \u001b[38;5;28mprint\u001b[39m(\u001b[38;5;124mf\u001b[39m\u001b[38;5;124m\"\u001b[39m\u001b[38;5;124mYou are \u001b[39m\u001b[38;5;132;01m{\u001b[39;00mage\u001b[38;5;132;01m}\u001b[39;00m\u001b[38;5;124m years old.\u001b[39m\u001b[38;5;124m\"\u001b[39m)\n",
      "\u001b[1;31mValueError\u001b[0m: Age must ve between 0 and 12"
     ]
    }
   ],
   "source": [
    "age = float(input(\"Enter age : \"))\n",
    "if not 0 <= age <=125:\n",
    "    raise ValueError(\"Age must ve between 0 and 12\")   \n",
    "print(f\"You are {age} years old.\")"
   ]
  },
  {
   "cell_type": "code",
   "execution_count": null,
   "metadata": {},
   "outputs": [
    {
     "name": "stdout",
     "output_type": "stream",
     "text": [
      "Age must ve between 0 and 12\n"
     ]
    }
   ],
   "source": [
    "try:\n",
    "    age = float(input(\"Enter age : \"))\n",
    "    if not 0 <= age <=125:\n",
    "        raise ValueError(\"Age must be between 0 and 12\")   \n",
    "    print(f\"You are {age} years old.\")\n",
    "except ValueError as err:\n",
    "    print(err)"
   ]
  },
  {
   "cell_type": "code",
   "execution_count": 20,
   "metadata": {},
   "outputs": [
    {
     "name": "stdout",
     "output_type": "stream",
     "text": [
      "Age must be between 0 and 125\n",
      "You are 12 years old.\n"
     ]
    }
   ],
   "source": [
    "while True:\n",
    "    try:\n",
    "        age = float(input(\"Enter age : \"))\n",
    "        if not 0 <= age <= 125:\n",
    "            raise ValueError(\"Age must be between 0 and 125\")   \n",
    "        print(f\"You are {age} years old.\")\n",
    "        break\n",
    "    except ValueError as err:\n",
    "        print(err)"
   ]
  },
  {
   "cell_type": "code",
   "execution_count": 1,
   "metadata": {},
   "outputs": [
    {
     "name": "stdout",
     "output_type": "stream",
     "text": [
      "Du är 25.0 år gammal\n"
     ]
    }
   ],
   "source": [
    "# want user to try again \n",
    "while True: \n",
    "    try:\n",
    "        age = float(input(\"Ange din ålder\"))\n",
    "        if not 0<=age<=125:\n",
    "            raise ValueError(\"Åldern måste vara mellan 0 and 125\")\n",
    "        print(f\"Du är {age} år gammal\")\n",
    "        break # breaks out of while loop if nothing went wrong\n",
    "    except ValueError as err:\n",
    "        print(err)   "
   ]
  },
  {
   "cell_type": "markdown",
   "metadata": {},
   "source": [
    "##Functions##"
   ]
  },
  {
   "cell_type": "code",
   "execution_count": 3,
   "metadata": {},
   "outputs": [
    {
     "data": {
      "text/plain": [
       "(4, 16, 9)"
      ]
     },
     "execution_count": 3,
     "metadata": {},
     "output_type": "execute_result"
    }
   ],
   "source": [
    "def squarer(x):\n",
    "    return x**2\n",
    "\n",
    "squarer(2),squarer(4),squarer(-3)"
   ]
  },
  {
   "cell_type": "code",
   "execution_count": 5,
   "metadata": {},
   "outputs": [
    {
     "data": {
      "text/plain": [
       "[0, 1, 4, 9, 16, 25, 36, 49, 64, 81]"
      ]
     },
     "execution_count": 5,
     "metadata": {},
     "output_type": "execute_result"
    }
   ],
   "source": [
    "[squarer(x) for x in range(10)]\n"
   ]
  },
  {
   "cell_type": "code",
   "execution_count": 12,
   "metadata": {},
   "outputs": [
    {
     "data": {
      "text/plain": [
       "(1, 7)"
      ]
     },
     "execution_count": 12,
     "metadata": {},
     "output_type": "execute_result"
    }
   ],
   "source": [
    "def smallest(num1,num2):\n",
    "    if num1 > num2:\n",
    "        return num2\n",
    "    return num1\n",
    "\n",
    "smallest(2,1),smallest(7,7)    "
   ]
  },
  {
   "cell_type": "markdown",
   "metadata": {},
   "source": [
    "**Default value**"
   ]
  },
  {
   "cell_type": "code",
   "execution_count": 24,
   "metadata": {},
   "outputs": [
    {
     "name": "stdout",
     "output_type": "stream",
     "text": [
      "x O O O O \n",
      "x x O O O \n",
      "x x x O O \n",
      "x x x x O \n",
      "x x x x x \n"
     ]
    }
   ],
   "source": [
    "def draw(rows= 5):\n",
    "    for i in range(1,rows + 1):\n",
    "        print(i * \"x \" + (rows-i)*\"O \")\n",
    "draw()        "
   ]
  },
  {
   "cell_type": "code",
   "execution_count": 34,
   "metadata": {},
   "outputs": [
    {
     "name": "stdout",
     "output_type": "stream",
     "text": [
      "D IF IF IF IF \n",
      "D D IF IF IF \n",
      "D D D IF IF \n",
      "D D D D IF \n",
      "D D D D D \n"
     ]
    }
   ],
   "source": [
    "def triangle(rad):\n",
    "    for i in range(1,rad +1 ):\n",
    "        print(i*\"D \" + (rad - i) * \"IF \")\n",
    "triangle(5)    "
   ]
  },
  {
   "cell_type": "code",
   "execution_count": 35,
   "metadata": {},
   "outputs": [
    {
     "name": "stdout",
     "output_type": "stream",
     "text": [
      "x O O \n",
      "x x O \n",
      "x x x \n"
     ]
    }
   ],
   "source": [
    "def draw(rows= 3):\n",
    "    for i in range(1,rows + 1):\n",
    "        print(i * \"x \" + (rows-i)*\"O \")\n",
    "draw()  "
   ]
  },
  {
   "cell_type": "code",
   "execution_count": 36,
   "metadata": {},
   "outputs": [
    {
     "name": "stdout",
     "output_type": "stream",
     "text": [
      "x O O O O O O O O \n",
      "x x O O O O O O O \n",
      "x x x O O O O O O \n",
      "x x x x O O O O O \n",
      "x x x x x O O O O \n",
      "x x x x x x O O O \n",
      "x x x x x x x O O \n",
      "x x x x x x x x O \n",
      "x x x x x x x x x \n"
     ]
    }
   ],
   "source": [
    "def draw(rows= 9):\n",
    "    for i in range(1,rows + 1):\n",
    "        print(i * \"x \" + (rows-i)*\"O \")\n",
    "draw()  "
   ]
  },
  {
   "cell_type": "code",
   "execution_count": 37,
   "metadata": {},
   "outputs": [
    {
     "name": "stdout",
     "output_type": "stream",
     "text": [
      "x O O O O O O O O O \n",
      "x x O O O O O O O O \n",
      "x x x O O O O O O O \n",
      "x x x x O O O O O O \n",
      "x x x x x O O O O O \n",
      "x x x x x x O O O O \n",
      "x x x x x x x O O O \n",
      "x x x x x x x x O O \n",
      "x x x x x x x x x O \n",
      "x x x x x x x x x x \n"
     ]
    }
   ],
   "source": [
    "draw(10)"
   ]
  },
  {
   "cell_type": "markdown",
   "metadata": {},
   "source": [
    "**arbitrary \\*arguments**"
   ]
  },
  {
   "cell_type": "code",
   "execution_count": 41,
   "metadata": {},
   "outputs": [
    {
     "name": "stdout",
     "output_type": "stream",
     "text": [
      "(1, 2, 3, 4)\n"
     ]
    },
    {
     "data": {
      "text/plain": [
       "2.5"
      ]
     },
     "execution_count": 41,
     "metadata": {},
     "output_type": "execute_result"
    }
   ],
   "source": [
    "def my_mean(*args):\n",
    "    print(args)\n",
    "    sum_ = 0\n",
    "    for arg in args:\n",
    "        sum_ += arg\n",
    "    return sum_/len(args)    \n",
    "my_mean(1,2,3,4)"
   ]
  },
  {
   "cell_type": "markdown",
   "metadata": {},
   "source": [
    "**Keyword arguments** \\*\\*kwargs"
   ]
  },
  {
   "cell_type": "code",
   "execution_count": 47,
   "metadata": {},
   "outputs": [
    {
     "name": "stdout",
     "output_type": "stream",
     "text": [
      "[[3 2]]\n"
     ]
    }
   ],
   "source": [
    "import numpy as np\n",
    "\n",
    "def simulate_dices(throws= 1,dices = 2):\n",
    "    print(np.random.randint(1,7, (throws,dices)))\n",
    "simulate_dices()    "
   ]
  },
  {
   "cell_type": "code",
   "execution_count": 48,
   "metadata": {},
   "outputs": [
    {
     "name": "stdout",
     "output_type": "stream",
     "text": [
      "[[1 6]\n",
      " [3 4]\n",
      " [2 6]\n",
      " [6 3]]\n"
     ]
    }
   ],
   "source": [
    "simulate_dices(throws=4)"
   ]
  },
  {
   "cell_type": "code",
   "execution_count": 49,
   "metadata": {},
   "outputs": [
    {
     "name": "stdout",
     "output_type": "stream",
     "text": [
      "[[3 6 3]\n",
      " [5 3 3]\n",
      " [5 4 3]\n",
      " [5 6 4]\n",
      " [2 5 1]]\n"
     ]
    }
   ],
   "source": [
    "simulate_dices(throws=5,dices=3)"
   ]
  },
  {
   "cell_type": "code",
   "execution_count": 50,
   "metadata": {},
   "outputs": [
    {
     "name": "stdout",
     "output_type": "stream",
     "text": [
      "[[6 1 5]\n",
      " [5 1 2]\n",
      " [4 6 6]\n",
      " [4 2 2]]\n"
     ]
    }
   ],
   "source": [
    "simulate_dices(dices=3,throws=4)"
   ]
  },
  {
   "cell_type": "code",
   "execution_count": 51,
   "metadata": {},
   "outputs": [
    {
     "name": "stdout",
     "output_type": "stream",
     "text": [
      "[[2 4 1 5]]\n"
     ]
    }
   ],
   "source": [
    "simulate_dices(dices=4)"
   ]
  },
  {
   "cell_type": "code",
   "execution_count": null,
   "metadata": {},
   "outputs": [],
   "source": [
    "simulate_dices"
   ]
  }
 ],
 "metadata": {
  "kernelspec": {
   "display_name": ".venv",
   "language": "python",
   "name": "python3"
  },
  "language_info": {
   "codemirror_mode": {
    "name": "ipython",
    "version": 3
   },
   "file_extension": ".py",
   "mimetype": "text/x-python",
   "name": "python",
   "nbconvert_exporter": "python",
   "pygments_lexer": "ipython3",
   "version": "3.12.5"
  }
 },
 "nbformat": 4,
 "nbformat_minor": 2
}
