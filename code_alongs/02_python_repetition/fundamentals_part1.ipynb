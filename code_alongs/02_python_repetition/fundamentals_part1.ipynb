{
 "cells": [
  {
   "cell_type": "markdown",
   "metadata": {},
   "source": [
    "Code alongs - python fundamentals 1"
   ]
  },
  {
   "cell_type": "code",
   "execution_count": 2,
   "metadata": {},
   "outputs": [
    {
     "name": "stdout",
     "output_type": "stream",
     "text": [
      "I like to eat: äpple \n"
     ]
    }
   ],
   "source": [
    "my_fruit = input()\n",
    "print(f\"I like to eat: {my_fruit} \")"
   ]
  },
  {
   "cell_type": "code",
   "execution_count": 4,
   "metadata": {},
   "outputs": [
    {
     "name": "stdout",
     "output_type": "stream",
     "text": [
      "hello\n"
     ]
    }
   ],
   "source": [
    "print(\"hello\")"
   ]
  },
  {
   "cell_type": "code",
   "execution_count": 7,
   "metadata": {},
   "outputs": [
    {
     "data": {
      "text/plain": [
       "('niclas', 30, 2, False)"
      ]
     },
     "execution_count": 7,
     "metadata": {},
     "output_type": "execute_result"
    }
   ],
   "source": [
    "name = \"niclas\" \n",
    "age = 30\n",
    "number_of_children = 2\n",
    "loves_math = False\n",
    "name,age, number_of_children, loves_math"
   ]
  },
  {
   "cell_type": "code",
   "execution_count": 10,
   "metadata": {},
   "outputs": [
    {
     "name": "stdout",
     "output_type": "stream",
     "text": [
      "type(name) is <class 'str'>\n",
      "type(age) is <class 'int'>\n",
      "type(number_of_children) is <class 'int'>\n",
      "type(loves_math) is <class 'bool'>\n"
     ]
    }
   ],
   "source": [
    "print(f\"type(name) is {type(name)}\")\n",
    "print(f\"type(age) is {type(age)}\")\n",
    "print(f\"type(number_of_children) is {type(number_of_children)}\")\n",
    "print(f\"type(loves_math) is {type(loves_math)}\")"
   ]
  },
  {
   "cell_type": "code",
   "execution_count": 11,
   "metadata": {},
   "outputs": [
    {
     "data": {
      "text/plain": [
       "['Niclas', 30, 2, False, ['fotboll', 'gaming', 'hockey']]"
      ]
     },
     "execution_count": 11,
     "metadata": {},
     "output_type": "execute_result"
    }
   ],
   "source": [
    "interests = [\"fotboll\",\"gaming\", \"hockey\"]\n",
    "person = [\"Niclas\", 30, 2, False]\n",
    "person.append(interests)\n",
    "person"
   ]
  },
  {
   "cell_type": "code",
   "execution_count": 22,
   "metadata": {},
   "outputs": [
    {
     "name": "stdout",
     "output_type": "stream",
     "text": [
      "person[0] = 'Niclas'\n",
      "person[2] = 2\n",
      "person[-1] = ['fotboll', 'gaming', 'hockey']\n",
      "person[1] = 30 \n",
      "person[-1][-2] = 'gaming'\n"
     ]
    }
   ],
   "source": [
    "print(f\"{person[0] = }\")\n",
    "print(f\"{person[2] = }\")\n",
    "print(f\"{person[-1] = }\")\n",
    "print(f\"{person[1] = } \")\n",
    "print(f\"{person[-1][-2] = }\")"
   ]
  },
  {
   "cell_type": "code",
   "execution_count": 28,
   "metadata": {},
   "outputs": [
    {
     "name": "stdout",
     "output_type": "stream",
     "text": [
      "original list\n",
      "person = ['Niclas', 30, 2, False, ['fotboll', 'gaming', 'hockey']]\n",
      "\n",
      "slice from 0 to 2 (exclusive)\n",
      "['Niclas', 30]\n",
      "every second element\n",
      "person[0::2] = ['Niclas', 2, ['fotboll', 'gaming', 'hockey']] \n",
      "\n"
     ]
    }
   ],
   "source": [
    "print(\"original list\")\n",
    "print(f\"{person = }\\n\")\n",
    "print(\"slice from 0 to 2 (exclusive)\")\n",
    "print(f\"{person[:2]}\")\n",
    "print(\"every second element\")\n",
    "print(f\"{person[0::2] = } \\n\")\n"
   ]
  },
  {
   "cell_type": "code",
   "execution_count": 31,
   "metadata": {},
   "outputs": [
    {
     "name": "stdout",
     "output_type": "stream",
     "text": [
      "['Niclas', 30, 2, False, ['fotboll', 'gaming', 'hockey']]\n"
     ]
    }
   ],
   "source": [
    "# Ta bort elementen i interests från person\n",
    "person = [item for item in person if item not in interests]\n",
    "\n",
    "print(person)  # Output kommer att vara [\"John\", \"Doe\", 30]\n"
   ]
  },
  {
   "cell_type": "code",
   "execution_count": 36,
   "metadata": {},
   "outputs": [
    {
     "name": "stdout",
     "output_type": "stream",
     "text": [
      "['Niclas', 30, 2, False]\n"
     ]
    },
    {
     "data": {
      "text/plain": [
       "['Niclas', 30, 2, False]"
      ]
     },
     "execution_count": 36,
     "metadata": {},
     "output_type": "execute_result"
    }
   ],
   "source": [
    "for item in interests:\n",
    "    if item in person:\n",
    "        person.remove(item)\n",
    "print(person)        \n",
    "person\n"
   ]
  },
  {
   "cell_type": "code",
   "execution_count": 52,
   "metadata": {},
   "outputs": [
    {
     "name": "stdout",
     "output_type": "stream",
     "text": [
      "person[:2] = ['Niclas', 30] \n",
      "\n",
      "person[0::2] = ['Niclas', 2] \n",
      "\n",
      "person[::-1] = [False, 2, 30, 'Niclas']\n"
     ]
    }
   ],
   "source": [
    "print(f\"{person[:2] = } \\n\")\n",
    "print(f\"{person[0::2] = } \\n\")\n",
    "print(f\"{person[::-1] = }\")\n"
   ]
  },
  {
   "cell_type": "code",
   "execution_count": 59,
   "metadata": {},
   "outputs": [
    {
     "name": "stdout",
     "output_type": "stream",
     "text": [
      "numbers = [0, 1, 2, 3, 4, 5, 6, 7, 8, 9]\n"
     ]
    }
   ],
   "source": [
    "numbers = []\n",
    "for i in range(10):\n",
    "    numbers.append(i)\n",
    "print(f\"{numbers = }\")    "
   ]
  },
  {
   "cell_type": "code",
   "execution_count": 60,
   "metadata": {},
   "outputs": [
    {
     "name": "stdout",
     "output_type": "stream",
     "text": [
      "squares = [0, 1, 4, 9, 16, 25, 36, 49, 64, 81]\n"
     ]
    }
   ],
   "source": [
    "squares = []\n",
    "for number in numbers:\n",
    "    squares.append(number**2)\n",
    "print(f\"{squares = }\")    "
   ]
  },
  {
   "cell_type": "code",
   "execution_count": 63,
   "metadata": {},
   "outputs": [
    {
     "name": "stdout",
     "output_type": "stream",
     "text": [
      "cubes = [0, 1, 8, 27, 64, 125, 216, 343]\n",
      "8 cubes before we go over 500\n"
     ]
    }
   ],
   "source": [
    "i, cubes = 0, [0]\n",
    "while(i+1) ** 3 < 500:\n",
    "    i+=1\n",
    "    cubes.append(i**3)\n",
    "print(f\"{cubes = }\")    \n",
    "print(f\"{len(cubes)} cubes before we go over 500\")"
   ]
  },
  {
   "cell_type": "code",
   "execution_count": 64,
   "metadata": {},
   "outputs": [
    {
     "data": {
      "text/plain": [
       "('Niclas', 30, 2, False)"
      ]
     },
     "execution_count": 64,
     "metadata": {},
     "output_type": "execute_result"
    }
   ],
   "source": [
    "person = (\"Niclas\", 30, 2, False)\n",
    "person"
   ]
  },
  {
   "cell_type": "code",
   "execution_count": 67,
   "metadata": {},
   "outputs": [
    {
     "name": "stdout",
     "output_type": "stream",
     "text": [
      "dices = [4, 3, 5, 5, 5, 3, 3, 5, 3, 1, 6, 5, 4, 3, 1, 4, 3, 2, 2, 6]\n",
      "unique_dices = {1, 2, 3, 4, 5, 6}\n"
     ]
    }
   ],
   "source": [
    "import random as rnd\n",
    "dices = [\n",
    "    rnd.randint(1,6) for _ in range(20)\n",
    "]\n",
    "print(f\"{dices = }\")\n",
    "unique_dices = set(dices)\n",
    "print(f\"{unique_dices = }\")"
   ]
  },
  {
   "cell_type": "code",
   "execution_count": 80,
   "metadata": {},
   "outputs": [
    {
     "name": "stdout",
     "output_type": "stream",
     "text": [
      "unique_dices = {1, 2, 3, 4, 5, 6}\n",
      "set2 = {1, 10, 3, 15}\n",
      "unique_dices.union(set2) = {1, 2, 3, 4, 5, 6, 10, 15}\n",
      "unique_dices | set2 = {1, 2, 3, 4, 5, 6, 10, 15}\n",
      "\n",
      "unique_dices.intersection(set2) = {1, 3}\n",
      "unique_dices & set2 = {1, 3}\n",
      "unique_dices.difference(set2) = {2, 4, 5, 6}\n",
      "unique_dices - set2 = {2, 4, 5, 6}\n",
      "unique_dices.issubset(set2) = False\n",
      "set3.issubset(unique_dices) = True\n"
     ]
    }
   ],
   "source": [
    "set2 = {1,3,10,15}\n",
    "\n",
    "print(f\"{unique_dices = }\")\n",
    "print(f\"{set2 = }\")\n",
    "\n",
    "print(f\"{unique_dices.union(set2) = }\")\n",
    "print(f\"{unique_dices | set2 = }\\n\")\n",
    "\n",
    "print(f\"{unique_dices.intersection(set2) = }\")\n",
    "print(f\"{unique_dices & set2 = }\")\n",
    "\n",
    "print(f\"{unique_dices.difference(set2) = }\")\n",
    "print(f\"{unique_dices - set2 = }\")\n",
    "\n",
    "set3 = {1,2}\n",
    "print(f\"{unique_dices.issubset(set2) = }\")\n",
    "print(f\"{set3.issubset(unique_dices) = }\")\n"
   ]
  },
  {
   "cell_type": "code",
   "execution_count": 86,
   "metadata": {},
   "outputs": [
    {
     "name": "stdout",
     "output_type": "stream",
     "text": [
      "both syntax are equal? True\n",
      "But they have different memory adresses\n"
     ]
    },
    {
     "data": {
      "text/plain": [
       "('0x15efec8a740', '0x15efec9df00')"
      ]
     },
     "execution_count": 86,
     "metadata": {},
     "output_type": "execute_result"
    }
   ],
   "source": [
    "person_dict_syntax = dict(\n",
    "    name= \"Niclas\", age = 30, number_of_children = 2, loves_math = True\n",
    ")\n",
    "person_dict_bracket_syntax = {\n",
    "    \"name\": \"Niclas\",\n",
    "    \"age\" : 30,\n",
    "    \"number_of_children\": 2,\n",
    "    \"loves_math\" : True,\n",
    "}\n",
    "print(f\"both syntax are equal? {person_dict_syntax == person_dict_bracket_syntax}\")\n",
    "print(\"But they have different memory adresses\")\n",
    "hex(id(person_dict_bracket_syntax)), hex(id(person_dict_syntax))"
   ]
  },
  {
   "cell_type": "code",
   "execution_count": 102,
   "metadata": {},
   "outputs": [
    {
     "name": "stdout",
     "output_type": "stream",
     "text": [
      "key value\n",
      "('name', 'Niclas')\n",
      "('age', 30)\n",
      "('number_of_children', 2)\n",
      "('loves_math', True)\n"
     ]
    }
   ],
   "source": [
    "\n",
    "    \n",
    "    \n",
    "print(\"key\", \"value\")    \n",
    "for key, value in person_dict_syntax.items():\n",
    "    print(f\"{key,value}\")    "
   ]
  },
  {
   "cell_type": "code",
   "execution_count": null,
   "metadata": {},
   "outputs": [],
   "source": [
    "ml_terms = [\n",
    "    \"supervised learning\",\n",
    "    \"Unsupervised learning\",\n",
    "    \"Feature Engineering\",\n",
    "    \"Overfitting\",\n",
    "    \"Cross Validation\"\n",
    "]\n",
    "\n",
    "ml_explanations = [\n",
    "    \"Learns from labeled data\",\n",
    "    \"Finds patterns in unlabeled data\",\n",
    "    \"Enhances input training data too closely\",\n",
    "    \"Mode fits training data too closely\",\n",
    "    \"Evaluates model performance robustly\"\n",
    "]"
   ]
  }
 ],
 "metadata": {
  "kernelspec": {
   "display_name": ".venv",
   "language": "python",
   "name": "python3"
  },
  "language_info": {
   "codemirror_mode": {
    "name": "ipython",
    "version": 3
   },
   "file_extension": ".py",
   "mimetype": "text/x-python",
   "name": "python",
   "nbconvert_exporter": "python",
   "pygments_lexer": "ipython3",
   "version": "3.12.5"
  }
 },
 "nbformat": 4,
 "nbformat_minor": 2
}
